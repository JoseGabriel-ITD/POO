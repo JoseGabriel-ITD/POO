{
  "cells": [
    {
      "cell_type": "markdown",
      "metadata": {
        "id": "view-in-github",
        "colab_type": "text"
      },
      "source": [
        "<a href=\"https://colab.research.google.com/github/JoseGabriel-ITD/POO/blob/main/POO_Unidad1_1_Introduccion_a_Python.ipynb\" target=\"_parent\"><img src=\"https://colab.research.google.com/assets/colab-badge.svg\" alt=\"Open In Colab\"/></a>"
      ]
    },
    {
      "cell_type": "markdown",
      "metadata": {
        "id": "5yMs18_mtBUc"
      },
      "source": [
        "![image](https://github.com/JoseGabriel-ITD/Probabilidad-y-Estadistica/blob/main/Cintilla2004.png?raw=true)\n",
        "\n",
        "# **Programación Orientada a Objetos**\n",
        "\n",
        "\n",
        "## **Unidad I.   Introducción a la Programación Orientada a Objetos**\n",
        "\n",
        "### Docente: José Gabriel Rodríguez Rivas\n",
        "\n",
        "### Alumno: ---------------------------------\n",
        "\n",
        "### Programa 1. Introducción al Lenguaje de Programación Python\n",
        "\n",
        "[1.2 La funcion print](#id2)<br>\n",
        "[1.3 Tipos de datos](#id3)<br>\n",
        "[1.4 Operadores](#id4)<br>\n",
        "[1.5 Expresiones y variables](#id5)<br>\n",
        "[1.6 Entrada de datos](#id6)<br>\n",
        "[1.7 Condiciones -  Control de flujo del programa](#id7)<br>\n",
        "[1.8 Ciclos](#id8)<br>\n",
        "[1.9 Funciones](#id9)<br>\n",
        "[1.10 Manejo de excepciones](#id10)<br>"
      ]
    },
    {
      "cell_type": "markdown",
      "metadata": {
        "id": "WG6u0Z1atBUd"
      },
      "source": [
        "###  Referencias de Markdown\n",
        "link  https://www.markdownguide.org/cheat-sheet/\n",
        "\n",
        "Texto con link [Markdown Cheat Sheet](https://www.markdownguide.org/cheat-sheet/)\n"
      ]
    },
    {
      "cell_type": "markdown",
      "metadata": {
        "id": "qgvNbVcVtBUd"
      },
      "source": [
        "###  Tema 1 Números\n",
        "***\n",
        "**Int.**  entero, es un número entero, positivo o negativo, sin decimales, de longitud ilimitada.\n",
        "\n",
        "**Float,**   Flotante, o \"número de punto flotante\" es un número, positivo o negativo, que contiene uno o más decimales.\n",
        "El flotante también puede ser un número científico con una \"e\" para indicar el exponente de 10.\n",
        "\n",
        "**Complex.**  Los números complejos se escriben con una \"j\" como parte imaginaria:\n",
        "\n",
        "x = 1.10  \n",
        "y = 12E4  \n",
        "z = 3+5j  \n",
        "w= 18  "
      ]
    },
    {
      "cell_type": "code",
      "execution_count": 1,
      "metadata": {
        "colab": {
          "base_uri": "https://localhost:8080/"
        },
        "id": "N4Sp270YtBUe",
        "outputId": "44667751-a51e-45ca-f2a6-0ecf4e4b5410"
      },
      "outputs": [
        {
          "output_type": "execute_result",
          "data": {
            "text/plain": [
              "5"
            ]
          },
          "metadata": {},
          "execution_count": 1
        }
      ],
      "source": [
        "3 + 2"
      ]
    },
    {
      "cell_type": "code",
      "execution_count": 2,
      "metadata": {
        "colab": {
          "base_uri": "https://localhost:8080/"
        },
        "id": "zefV-sputBUf",
        "outputId": "052f1ae3-1620-42a5-c8d3-7d935d9f3e8b"
      },
      "outputs": [
        {
          "output_type": "execute_result",
          "data": {
            "text/plain": [
              "3"
            ]
          },
          "metadata": {},
          "execution_count": 2
        }
      ],
      "source": [
        "10-7"
      ]
    },
    {
      "cell_type": "markdown",
      "metadata": {
        "id": "q-M2jJ6qtBUf"
      },
      "source": [
        "### Tema 2. Variables\n",
        "\n",
        "+ Python no tiene comandos para declarar una variable.\n",
        "\n",
        "+ Una variable se crea en el momento en que primero le asigna un valor.\n",
        "+ Las variables no necesitan ser declaradas con ningún tipo en particular e incluso pueden cambiar el tipo después de que se hayan establecido.\n",
        "+ Un nombre de variable debe comenzar con una letra o el carácter de subrayado\n",
        "+ Un nombre de variable no puede comenzar con un número\n",
        "+ Un nombre de variable solo puede contener caracteres alfanuméricos y guiones bajos (A-z, 0-9 y _)\n",
        "+ Los nombres de las variables distinguen entre mayúsculas y minúsculas (age, Age y AGE son tres variables diferentes)\n",
        "Nombre = \"Carlos\""
      ]
    },
    {
      "cell_type": "code",
      "execution_count": 3,
      "metadata": {
        "colab": {
          "base_uri": "https://localhost:8080/",
          "height": 35
        },
        "id": "oe8sJ8z6tBUg",
        "outputId": "bca2e9fa-fb65-476b-96b9-ab7ade53a14a"
      },
      "outputs": [
        {
          "output_type": "execute_result",
          "data": {
            "text/plain": [
              "'Carlos'"
            ],
            "application/vnd.google.colaboratory.intrinsic+json": {
              "type": "string"
            }
          },
          "metadata": {},
          "execution_count": 3
        }
      ],
      "source": [
        "Nombre = \"Carlos\"\n",
        "Nombre"
      ]
    },
    {
      "cell_type": "code",
      "execution_count": 4,
      "metadata": {
        "colab": {
          "base_uri": "https://localhost:8080/"
        },
        "id": "sBhDBlbXtBUg",
        "outputId": "fda3fccc-7228-48b7-f39e-657309ba0f00"
      },
      "outputs": [
        {
          "output_type": "execute_result",
          "data": {
            "text/plain": [
              "40"
            ]
          },
          "metadata": {},
          "execution_count": 4
        }
      ],
      "source": [
        "Edad = 40\n",
        "Edad"
      ]
    },
    {
      "cell_type": "code",
      "execution_count": 5,
      "metadata": {
        "colab": {
          "base_uri": "https://localhost:8080/"
        },
        "id": "falaiI1LtBUg",
        "outputId": "c187706f-17ff-4d70-8079-66797a563686"
      },
      "outputs": [
        {
          "output_type": "stream",
          "name": "stdout",
          "text": [
            "José Gabriel Rodriguez\n"
          ]
        }
      ],
      "source": [
        "## En el siguiente caso son 3 variables diferentes\n",
        "Nombre = \"José\"\n",
        "NOMBRE = \"Gabriel\"\n",
        "NOMbre = \"Rodriguez\"\n",
        "print(Nombre, NOMBRE, NOMbre)"
      ]
    },
    {
      "cell_type": "code",
      "execution_count": 6,
      "metadata": {
        "colab": {
          "base_uri": "https://localhost:8080/",
          "height": 106
        },
        "id": "iuTdAKdttBUh",
        "outputId": "d69c1fc5-4423-46d3-e5b8-494bc48fd843"
      },
      "outputs": [
        {
          "output_type": "error",
          "ename": "SyntaxError",
          "evalue": "cannot assign to True (ipython-input-1092637412.py, line 2)",
          "traceback": [
            "\u001b[0;36m  File \u001b[0;32m\"/tmp/ipython-input-1092637412.py\"\u001b[0;36m, line \u001b[0;32m2\u001b[0m\n\u001b[0;31m    True = 100\u001b[0m\n\u001b[0m    ^\u001b[0m\n\u001b[0;31mSyntaxError\u001b[0m\u001b[0;31m:\u001b[0m cannot assign to True\n"
          ]
        }
      ],
      "source": [
        "## No se pueden asignar palabras reservadas de Python como nombres de variable\n",
        "True = 100\n",
        "print(True)"
      ]
    },
    {
      "cell_type": "code",
      "execution_count": 15,
      "metadata": {
        "colab": {
          "base_uri": "https://localhost:8080/"
        },
        "id": "9HJbX9D4tBUh",
        "outputId": "5ce87de1-f769-45eb-f41c-d32097e0c799"
      },
      "outputs": [
        {
          "output_type": "stream",
          "name": "stdout",
          "text": [
            "100\n"
          ]
        }
      ],
      "source": [
        "## En este caso si se crea la variable TRue porque la R mayuscula hace la diferencia\n",
        "## y Python No la reconoce como palabra reservada\n",
        "TRue = 100\n",
        "print(TRue)"
      ]
    },
    {
      "cell_type": "code",
      "execution_count": 16,
      "metadata": {
        "colab": {
          "base_uri": "https://localhost:8080/",
          "height": 106
        },
        "id": "c4-46NaOtBUh",
        "outputId": "329893c4-fa1d-4566-f350-a8d55a43f3f9"
      },
      "outputs": [
        {
          "output_type": "error",
          "ename": "SyntaxError",
          "evalue": "cannot assign to expression here. Maybe you meant '==' instead of '='? (ipython-input-4076447692.py, line 2)",
          "traceback": [
            "\u001b[0;36m  File \u001b[0;32m\"/tmp/ipython-input-4076447692.py\"\u001b[0;36m, line \u001b[0;32m2\u001b[0m\n\u001b[0;31m    Mi-Variable = 3\u001b[0m\n\u001b[0m    ^\u001b[0m\n\u001b[0;31mSyntaxError\u001b[0m\u001b[0;31m:\u001b[0m cannot assign to expression here. Maybe you meant '==' instead of '='?\n"
          ]
        }
      ],
      "source": [
        "# Se debe usar el guion bajo como separador de palabras como parte de un nombre de variable\n",
        "Mi-Variable = 3\n",
        "print(Mi-Variable)"
      ]
    },
    {
      "cell_type": "code",
      "execution_count": 17,
      "metadata": {
        "colab": {
          "base_uri": "https://localhost:8080/"
        },
        "id": "_r6tMuU5tBUh",
        "outputId": "2eb39001-94b3-4b4f-9194-370e3320299e"
      },
      "outputs": [
        {
          "output_type": "stream",
          "name": "stdout",
          "text": [
            "3\n"
          ]
        }
      ],
      "source": [
        "# Se debe usar el guion bajo como separador de palabras como parte de un nombre de variable\n",
        "Mi_Variable = 3\n",
        "print(Mi_Variable)"
      ]
    },
    {
      "cell_type": "markdown",
      "metadata": {
        "id": "H19Y4UhCtBUh"
      },
      "source": [
        "## 1.2 La funcion print  <a id='id2'> </a>"
      ]
    },
    {
      "cell_type": "code",
      "execution_count": 18,
      "metadata": {
        "colab": {
          "base_uri": "https://localhost:8080/"
        },
        "id": "-W_eobnttBUi",
        "outputId": "c4d86bf8-abb5-43da-c638-8ee138b1933b"
      },
      "outputs": [
        {
          "output_type": "stream",
          "name": "stdout",
          "text": [
            "Hola\n"
          ]
        }
      ],
      "source": [
        "#Imprimir una cadena de texto\n",
        "\n",
        "print( \"Hola\")"
      ]
    },
    {
      "cell_type": "code",
      "execution_count": 19,
      "metadata": {
        "colab": {
          "base_uri": "https://localhost:8080/"
        },
        "id": "JH6BCmAdtBUi",
        "outputId": "2215d5ea-fcb8-4536-fb14-0c10d494bdd9"
      },
      "outputs": [
        {
          "output_type": "stream",
          "name": "stdout",
          "text": [
            "100\n"
          ]
        }
      ],
      "source": [
        "# Inprimir el valor de una variable numerica\n",
        "x = 100\n",
        "print(100)"
      ]
    },
    {
      "cell_type": "code",
      "execution_count": 20,
      "metadata": {
        "colab": {
          "base_uri": "https://localhost:8080/"
        },
        "id": "I-GXTYKrtBUi",
        "outputId": "ce0566ed-9015-47ba-f5ae-b0ece94fd5c6"
      },
      "outputs": [
        {
          "output_type": "stream",
          "name": "stdout",
          "text": [
            "Hola Mundo\n"
          ]
        }
      ],
      "source": [
        "# Inprimir el valor de una variable de cadena de texto\n",
        "x = \"Hola Mundo\"\n",
        "print(x)"
      ]
    },
    {
      "cell_type": "code",
      "execution_count": 21,
      "metadata": {
        "scrolled": true,
        "colab": {
          "base_uri": "https://localhost:8080/"
        },
        "id": "0SFtPBrstBUi",
        "outputId": "7f7167b9-f958-4b92-c320-d7b709d30398"
      },
      "outputs": [
        {
          "output_type": "stream",
          "name": "stdout",
          "text": [
            "El valor de x es Hola Mundo\n"
          ]
        }
      ],
      "source": [
        "print( 'El valor de x es', x )\n"
      ]
    },
    {
      "cell_type": "code",
      "execution_count": 22,
      "metadata": {
        "colab": {
          "base_uri": "https://localhost:8080/"
        },
        "id": "1BPZiMAmtBUi",
        "outputId": "027d23c6-4485-42ec-b770-c70fd20361ca"
      },
      "outputs": [
        {
          "output_type": "stream",
          "name": "stdout",
          "text": [
            "35\n"
          ]
        }
      ],
      "source": [
        "x = 5\n",
        "y = 7\n",
        "print(x * y)\n"
      ]
    },
    {
      "cell_type": "code",
      "execution_count": 23,
      "metadata": {
        "colab": {
          "base_uri": "https://localhost:8080/",
          "height": 35
        },
        "id": "_tMS0tyEtBUi",
        "outputId": "612fbb51-b55f-42b1-b929-2855058ef994"
      },
      "outputs": [
        {
          "output_type": "execute_result",
          "data": {
            "text/plain": [
              "'\\nComentarios de múltiples líneas\\njose gabriel rodriguez rivas\\nes\\n'"
            ],
            "application/vnd.google.colaboratory.intrinsic+json": {
              "type": "string"
            }
          },
          "metadata": {},
          "execution_count": 23
        }
      ],
      "source": [
        "# comentario de una sola linea\n",
        "\n",
        "\"\"\"\n",
        "Comentarios de múltiples líneas\n",
        "jose gabriel rodriguez rivas\n",
        "es\n",
        "\"\"\""
      ]
    },
    {
      "cell_type": "code",
      "execution_count": 24,
      "metadata": {
        "colab": {
          "base_uri": "https://localhost:8080/"
        },
        "id": "APbtsfkKtBUi",
        "outputId": "ec23b677-b910-4571-a988-6cfaeb46a4aa"
      },
      "outputs": [
        {
          "output_type": "stream",
          "name": "stdout",
          "text": [
            "El valor de x es 5***El valor de 'y' es 7\n",
            "Holas\n"
          ]
        }
      ],
      "source": [
        "# Usamos el parametro end para especificar cual es el terminador de linea\n",
        "# en una instruccion print\n",
        "# CARACTER DE ESCAPE \\\n",
        "\n",
        "print( 'El valor de x es', x, end='***' )\n",
        "print( 'El valor de \\'y\\' es', y)\n",
        "print(\"Holas\")"
      ]
    },
    {
      "cell_type": "code",
      "execution_count": 25,
      "metadata": {
        "colab": {
          "base_uri": "https://localhost:8080/"
        },
        "id": "-3ikkqN4tBUi",
        "outputId": "4498114f-3c51-4bd2-cf5a-4606f646221b"
      },
      "outputs": [
        {
          "output_type": "stream",
          "name": "stdout",
          "text": [
            "Hola \"Mundo\" \n"
          ]
        }
      ],
      "source": [
        "# Imprimir comillas dobles dentro de un texto\n",
        "print('Hola \"Mundo\" ')"
      ]
    },
    {
      "cell_type": "code",
      "execution_count": 26,
      "metadata": {
        "colab": {
          "base_uri": "https://localhost:8080/"
        },
        "id": "Gj3jh5NmtBUj",
        "outputId": "9687e0eb-c8b1-4a4e-919a-80b0c08315a6"
      },
      "outputs": [
        {
          "output_type": "stream",
          "name": "stdout",
          "text": [
            "Hola 'Mundo' \n"
          ]
        }
      ],
      "source": [
        "# Imprimir comillas SIMPLES dentro de un texto\n",
        "print(\"Hola 'Mundo' \")"
      ]
    },
    {
      "cell_type": "code",
      "execution_count": 27,
      "metadata": {
        "colab": {
          "base_uri": "https://localhost:8080/"
        },
        "id": "gB8iNH7TtBUj",
        "outputId": "34bb4410-0f90-47eb-f423-d60fbe7b45ee"
      },
      "outputs": [
        {
          "output_type": "stream",
          "name": "stdout",
          "text": [
            "Hola 'Mundo' \n"
          ]
        }
      ],
      "source": [
        "#utilizar el carácter de escape \\ para\n",
        "#poner comillas del mismo tipo\n",
        "\n",
        "print('Hola \\'Mundo\\' ')"
      ]
    },
    {
      "cell_type": "code",
      "execution_count": 28,
      "metadata": {
        "colab": {
          "base_uri": "https://localhost:8080/"
        },
        "id": "envuFGI6tBUj",
        "outputId": "da9fe333-78eb-4b7d-fa9b-a7e855be49eb"
      },
      "outputs": [
        {
          "output_type": "stream",
          "name": "stdout",
          "text": [
            "Hola \tMundo \n"
          ]
        }
      ],
      "source": [
        "# Tabulaciones dentro de la cadena de texto\n",
        "print('Hola \\tMundo ')"
      ]
    },
    {
      "cell_type": "code",
      "execution_count": 29,
      "metadata": {
        "colab": {
          "base_uri": "https://localhost:8080/"
        },
        "id": "IBjunJKDtBUj",
        "outputId": "96d8c0c7-11a1-4e7b-b9e0-77c27899044c"
      },
      "outputs": [
        {
          "output_type": "stream",
          "name": "stdout",
          "text": [
            "Hola \n",
            "Mundo \n"
          ]
        }
      ],
      "source": [
        "# Salto de linea  (Enter)  dentro de la cadena de texto\n",
        "print('Hola \\nMundo ')"
      ]
    },
    {
      "cell_type": "markdown",
      "metadata": {
        "id": "Hdlf6osotBUj"
      },
      "source": [
        "## 1.3 Tipos de datos <a id='id3'> </a>\n",
        "\n",
        "Referencias a **Tipos de datos y operadores**\n",
        "\n",
        "https://docs.python.org/es/3/library/stdtypes.html"
      ]
    },
    {
      "cell_type": "code",
      "execution_count": 30,
      "metadata": {
        "colab": {
          "base_uri": "https://localhost:8080/"
        },
        "id": "AsNDMLAZtBUj",
        "outputId": "851c56d8-3a80-4eda-9e23-70762ec676b1"
      },
      "outputs": [
        {
          "output_type": "stream",
          "name": "stdout",
          "text": [
            "texto\n"
          ]
        }
      ],
      "source": [
        "x= 1100000   #Enteros\n",
        "x= 123.87   # Flotantes\n",
        "x= \"texto\"\n",
        "print(x)"
      ]
    },
    {
      "cell_type": "code",
      "execution_count": 31,
      "metadata": {
        "colab": {
          "base_uri": "https://localhost:8080/"
        },
        "id": "6mrnZCT9tBUj",
        "outputId": "59b7cb56-caff-4781-f6ac-59055d02d530"
      },
      "outputs": [
        {
          "output_type": "stream",
          "name": "stdout",
          "text": [
            "55000000\n"
          ]
        }
      ],
      "source": [
        "# NUmeros con separardores d emiles\n",
        "# forzosamente debe usarse un guion bajo\n",
        "x= 11_000_000\n",
        "y= 5\n",
        "print(x * y)"
      ]
    },
    {
      "cell_type": "code",
      "execution_count": 32,
      "metadata": {
        "colab": {
          "base_uri": "https://localhost:8080/"
        },
        "id": "5vKI758PtBUj",
        "outputId": "f361b4cc-4b58-4315-c9f0-53e4cb0577ab"
      },
      "outputs": [
        {
          "output_type": "stream",
          "name": "stdout",
          "text": [
            "80.0\n"
          ]
        }
      ],
      "source": [
        "# Exponente\n",
        "w= 0.08e3\n",
        "print(w)"
      ]
    },
    {
      "cell_type": "code",
      "execution_count": 33,
      "metadata": {
        "colab": {
          "base_uri": "https://localhost:8080/"
        },
        "id": "jD8sovoWtBUj",
        "outputId": "24412760-4262-4f81-f79c-1589a19e30c1"
      },
      "outputs": [
        {
          "output_type": "stream",
          "name": "stdout",
          "text": [
            "I\"m a boy\n"
          ]
        }
      ],
      "source": [
        "x = 'I\"m a boy'\n",
        "print(x)"
      ]
    },
    {
      "cell_type": "code",
      "execution_count": 34,
      "metadata": {
        "colab": {
          "base_uri": "https://localhost:8080/"
        },
        "id": "EHGuZhoktBUk",
        "outputId": "166a795e-2089-465a-81a8-695072d5d23e"
      },
      "outputs": [
        {
          "output_type": "stream",
          "name": "stdout",
          "text": [
            "*********************************\n"
          ]
        }
      ],
      "source": [
        "print(\"*********************************\")"
      ]
    },
    {
      "cell_type": "code",
      "execution_count": 35,
      "metadata": {
        "colab": {
          "base_uri": "https://localhost:8080/"
        },
        "id": "Ka1CeQPdtBUk",
        "outputId": "b06aabb7-1a3e-4ea0-e693-0f82cbb35679"
      },
      "outputs": [
        {
          "output_type": "stream",
          "name": "stdout",
          "text": [
            "**************************************************\n"
          ]
        }
      ],
      "source": [
        "print(\"*\" * 50)"
      ]
    },
    {
      "cell_type": "code",
      "execution_count": 37,
      "metadata": {
        "colab": {
          "base_uri": "https://localhost:8080/"
        },
        "id": "tr5oSzbWtBUk",
        "outputId": "5ee7ef82-4160-45ed-87f1-e3acb50ccc3f"
      },
      "outputs": [
        {
          "output_type": "stream",
          "name": "stdout",
          "text": [
            "Hola Hola Hola Hola Hola Hola Hola Hola Hola Hola Hola Hola Hola Hola Hola Hola Hola Hola Hola Hola Hola Hola Hola Hola Hola Hola Hola Hola Hola Hola Hola Hola Hola Hola Hola Hola Hola Hola Hola Hola Hola Hola Hola Hola Hola Hola Hola Hola Hola Hola \n"
          ]
        }
      ],
      "source": [
        "print(\"Hola \" * 50)"
      ]
    },
    {
      "cell_type": "code",
      "execution_count": 36,
      "metadata": {
        "colab": {
          "base_uri": "https://localhost:8080/"
        },
        "id": "ZU4Z7yN_tBUk",
        "outputId": "0bcd2979-1d95-461f-ae99-57ecbeeecb10"
      },
      "outputs": [
        {
          "output_type": "stream",
          "name": "stdout",
          "text": [
            "243\n"
          ]
        }
      ],
      "source": [
        "# Potencias\n",
        "print(3 **5)\n"
      ]
    },
    {
      "cell_type": "code",
      "execution_count": 38,
      "metadata": {
        "colab": {
          "base_uri": "https://localhost:8080/"
        },
        "id": "cHdHHT7gtBUk",
        "outputId": "428e7ebb-a365-4a54-8fb0-07acdc9104e1"
      },
      "outputs": [
        {
          "output_type": "execute_result",
          "data": {
            "text/plain": [
              "243"
            ]
          },
          "metadata": {},
          "execution_count": 38
        }
      ],
      "source": [
        "# también se puede usar la funcion pow para la exponenciación\n",
        "pow(3,5)"
      ]
    },
    {
      "cell_type": "markdown",
      "metadata": {
        "id": "31IbwVNHtBUk"
      },
      "source": [
        "## 1.4 Operadores   <a id='id4'> </a>\n",
        "\n",
        "> - Un operador es un símbolo del lenguaje de programación, el cual es capaz de realizar operaciones con los valores.\n",
        "- Por ejemplo, como en la aritmética, el signo de + (más) es un operador el cual es capaz de sumar dos números, dando el resultado de la suma.\n",
        "\n",
        "### Operadores matemáticos\n",
        "1. **(Suma) +**\n",
        "2. **(Resta) -**\n",
        "3. **(Multiplicación (*)**\n",
        "4. **(División) /**\n",
        "5. **(División entera) //** El resultado carece de la parte fraccionaria, esto significa que los resultados siempre son redondeados  \n",
        "6. **(Módulo) %** El resultado de la operación es el residuo que queda de la división entera.\n",
        "7. **(Exponenciación (potencia) ****\n"
      ]
    },
    {
      "cell_type": "code",
      "execution_count": 39,
      "metadata": {
        "colab": {
          "base_uri": "https://localhost:8080/"
        },
        "id": "w51bJThLtBUk",
        "outputId": "5b4db60d-a36c-4c80-e389-e0c85f8adf7b"
      },
      "outputs": [
        {
          "output_type": "stream",
          "name": "stdout",
          "text": [
            "15.0\n"
          ]
        }
      ],
      "source": [
        "print(3 * 5.0)"
      ]
    },
    {
      "cell_type": "code",
      "execution_count": 40,
      "metadata": {
        "colab": {
          "base_uri": "https://localhost:8080/"
        },
        "id": "zDkgWsEitBU4",
        "outputId": "33e8a4d4-fc4f-44fa-b62e-dbc7a2bec10b"
      },
      "outputs": [
        {
          "output_type": "stream",
          "name": "stdout",
          "text": [
            "5.0\n"
          ]
        }
      ],
      "source": [
        "# La division de numeros enteros siempre resulta en un float\n",
        "print(10 / 2)"
      ]
    },
    {
      "cell_type": "code",
      "execution_count": 41,
      "metadata": {
        "colab": {
          "base_uri": "https://localhost:8080/"
        },
        "id": "II-sOnw0tBU4",
        "outputId": "1870b4a2-d249-4db8-c271-7a261eb3e994"
      },
      "outputs": [
        {
          "output_type": "stream",
          "name": "stdout",
          "text": [
            "4\n"
          ]
        }
      ],
      "source": [
        "# El doble signo // dara un resultado sin la parte fraccionaria\n",
        "print( 9 // 2)"
      ]
    },
    {
      "cell_type": "code",
      "execution_count": 42,
      "metadata": {
        "colab": {
          "base_uri": "https://localhost:8080/"
        },
        "id": "QlRwptU-tBU4",
        "outputId": "a4f5b439-365c-4097-b52c-784c9c61ac80"
      },
      "outputs": [
        {
          "output_type": "stream",
          "name": "stdout",
          "text": [
            "1\n"
          ]
        }
      ],
      "source": [
        "print(9 % 2)"
      ]
    },
    {
      "cell_type": "code",
      "execution_count": 43,
      "metadata": {
        "colab": {
          "base_uri": "https://localhost:8080/"
        },
        "id": "knwaceV1tBU4",
        "outputId": "4ffdf115-a3b4-442e-bedc-296f067a3a09"
      },
      "outputs": [
        {
          "output_type": "stream",
          "name": "stdout",
          "text": [
            "2\n"
          ]
        }
      ],
      "source": [
        "print(+2)"
      ]
    },
    {
      "cell_type": "code",
      "execution_count": 44,
      "metadata": {
        "colab": {
          "base_uri": "https://localhost:8080/"
        },
        "id": "WZpQ7CoOtBU5",
        "outputId": "97954929-0142-40db-b0f0-870e33799f60"
      },
      "outputs": [
        {
          "output_type": "stream",
          "name": "stdout",
          "text": [
            "25\n"
          ]
        }
      ],
      "source": [
        "print((2 + 3) * 5)"
      ]
    },
    {
      "cell_type": "code",
      "execution_count": 45,
      "metadata": {
        "colab": {
          "base_uri": "https://localhost:8080/"
        },
        "id": "anUR3LMwtBU5",
        "outputId": "fb9f2315-2e46-4986-8914-486b8006e5e1"
      },
      "outputs": [
        {
          "output_type": "stream",
          "name": "stdout",
          "text": [
            "123\n",
            "hola\n"
          ]
        }
      ],
      "source": [
        " X = 123\n",
        "print(X)\n",
        "X= \"hola\"\n",
        "print(X)"
      ]
    },
    {
      "cell_type": "code",
      "execution_count": 46,
      "metadata": {
        "colab": {
          "base_uri": "https://localhost:8080/",
          "height": 106
        },
        "id": "DLJMw2lAtBU5",
        "outputId": "f81b3bdf-d1b4-439d-fb67-4257a6d1cc26"
      },
      "outputs": [
        {
          "output_type": "error",
          "ename": "SyntaxError",
          "evalue": "cannot assign to True (ipython-input-3180767927.py, line 2)",
          "traceback": [
            "\u001b[0;36m  File \u001b[0;32m\"/tmp/ipython-input-3180767927.py\"\u001b[0;36m, line \u001b[0;32m2\u001b[0m\n\u001b[0;31m    True = 1\u001b[0m\n\u001b[0m    ^\u001b[0m\n\u001b[0;31mSyntaxError\u001b[0m\u001b[0;31m:\u001b[0m cannot assign to True\n"
          ]
        }
      ],
      "source": [
        "#No usar palabras reservadas\n",
        "True = 1"
      ]
    },
    {
      "cell_type": "code",
      "execution_count": null,
      "metadata": {
        "id": "FHKwHj-ttBU5"
      },
      "outputs": [],
      "source": [
        "TRue = 1\n",
        "print (TRue)"
      ]
    },
    {
      "cell_type": "markdown",
      "metadata": {
        "id": "9KFUWvnntBU5"
      },
      "source": [
        "### Evaluar o conocer el tipo de dato"
      ]
    },
    {
      "cell_type": "code",
      "execution_count": 47,
      "metadata": {
        "colab": {
          "base_uri": "https://localhost:8080/"
        },
        "id": "8J8mgFm6tBU5",
        "outputId": "5d61d3d8-dfcf-4524-9395-944311470b7c"
      },
      "outputs": [
        {
          "output_type": "execute_result",
          "data": {
            "text/plain": [
              "str"
            ]
          },
          "metadata": {},
          "execution_count": 47
        }
      ],
      "source": [
        "Mensaje = \"Hola mundo\"\n",
        "pi = 3.1416\n",
        "X = 10\n",
        "\n",
        "type(Mensaje)"
      ]
    },
    {
      "cell_type": "code",
      "execution_count": 48,
      "metadata": {
        "colab": {
          "base_uri": "https://localhost:8080/"
        },
        "id": "uTbTrPAhtBU5",
        "outputId": "06301435-d517-496e-c4a4-0301f36d12f1"
      },
      "outputs": [
        {
          "output_type": "execute_result",
          "data": {
            "text/plain": [
              "float"
            ]
          },
          "metadata": {},
          "execution_count": 48
        }
      ],
      "source": [
        "type(pi)\n"
      ]
    },
    {
      "cell_type": "markdown",
      "metadata": {
        "id": "EizCVYO8tBU6"
      },
      "source": [
        "### Operadores de comparación\n",
        "\n",
        "\n",
        "| Operación | Significado |\n",
        "| ----------- | ----------- |\n",
        "| < | Estrictamente menor que |\n",
        "| <= | Menor o igual que |\n",
        "| > | Estrictamente mayor que|\n",
        "| >= | Mayor o igual que |\n",
        "| == | igual que |\n",
        "| != | diferente que |\n",
        "| is | igualdad a nivel de identidad (Son el mismo objeto) |\n",
        "| is not | desigualdad a nivel de identidad (no son el mismo objeto) |"
      ]
    },
    {
      "cell_type": "code",
      "execution_count": 49,
      "metadata": {
        "colab": {
          "base_uri": "https://localhost:8080/"
        },
        "id": "AEzUl0I2tBU6",
        "outputId": "cafc5483-6a46-460d-a0bc-fa72a056056b"
      },
      "outputs": [
        {
          "output_type": "execute_result",
          "data": {
            "text/plain": [
              "True"
            ]
          },
          "metadata": {},
          "execution_count": 49
        }
      ],
      "source": [
        "5 > 3"
      ]
    },
    {
      "cell_type": "code",
      "execution_count": 50,
      "metadata": {
        "colab": {
          "base_uri": "https://localhost:8080/"
        },
        "id": "JsiKCYXMtBU6",
        "outputId": "3dd22903-aae4-4c68-81e1-ad026fd446ab"
      },
      "outputs": [
        {
          "output_type": "execute_result",
          "data": {
            "text/plain": [
              "True"
            ]
          },
          "metadata": {},
          "execution_count": 50
        }
      ],
      "source": [
        "5 == 5"
      ]
    },
    {
      "cell_type": "markdown",
      "metadata": {
        "id": "s_V0EY63tBU6"
      },
      "source": [
        "### **Casting**  -   Converir de un tipo de dato a otro\n",
        "\n",
        "1. **int():** construye un número entero a partir de un literal entero, un literal flotante (redondeando hacia abajo al número entero anterior), o un literal de cadena (siempre que la cadena represente un número entero)\n",
        "2. **float():** construye un número flotante a partir de un literal entero, un literal flotante o un literal de cadena (siempre que la cadena represente un flotante o un entero)\n",
        "3. **str():** construye una cadena a partir de una amplia variedad de tipos de datos, incluidas cadenas, literales enteros y literales flotantes"
      ]
    },
    {
      "cell_type": "code",
      "execution_count": 51,
      "metadata": {
        "colab": {
          "base_uri": "https://localhost:8080/"
        },
        "id": "-aLmnz3vtBU6",
        "outputId": "2ed7e9da-9c4d-48aa-85c9-70f9894ac2c4"
      },
      "outputs": [
        {
          "output_type": "execute_result",
          "data": {
            "text/plain": [
              "2"
            ]
          },
          "metadata": {},
          "execution_count": 51
        }
      ],
      "source": [
        "# y will be 2\n",
        "y = int(2.8)\n",
        "y"
      ]
    },
    {
      "cell_type": "code",
      "execution_count": 52,
      "metadata": {
        "colab": {
          "base_uri": "https://localhost:8080/"
        },
        "id": "mLusJMv5tBU6",
        "outputId": "2e0d444d-756f-4cc0-fae6-c9fa136d66f8"
      },
      "outputs": [
        {
          "output_type": "execute_result",
          "data": {
            "text/plain": [
              "3"
            ]
          },
          "metadata": {},
          "execution_count": 52
        }
      ],
      "source": [
        "# z will be 3\n",
        "z = int(\"3\")\n",
        "z"
      ]
    },
    {
      "cell_type": "markdown",
      "metadata": {
        "id": "6c_6VVAKtBU7"
      },
      "source": [
        "## 1.5  Expresiones y variables  <a id='id5'> </a>\n",
        "\n",
        " Una expresión es una combinación de valores (o variables, operadores, llamadas a funciones, las cuales son evaluadas y dan como resultado un valor, por ejemplo, 1 + 2.\n",
        "\n"
      ]
    },
    {
      "cell_type": "markdown",
      "metadata": {
        "id": "W_B0D660tBU7"
      },
      "source": [
        "### Prioridad de operadores\n",
        "\n",
        "\n",
        "| Descripción | Operador |\n",
        "| ----------- | ----------- |\n",
        "| Paréntesis | () |\n",
        "| Exponenciacion | ** |\n",
        "| Multiplicación, multiplicación de matrices, división, división de redondeo, residuo o Módulo | *, @, /, //, % |\n",
        "| Suma y Resta | + , - |\n",
        "| Exponenciacion | ** |\n",
        "\n",
        "*Referencia completa\n",
        "https://docs.python.org/es/3/reference/expressions.html#evaluation-order\n"
      ]
    },
    {
      "cell_type": "code",
      "execution_count": 53,
      "metadata": {
        "colab": {
          "base_uri": "https://localhost:8080/"
        },
        "id": "wvHfOifrtBU7",
        "outputId": "338177cb-f4e2-43e4-dafa-4c8039da64d6"
      },
      "outputs": [
        {
          "output_type": "stream",
          "name": "stdout",
          "text": [
            "13\n"
          ]
        }
      ],
      "source": [
        "x = 3 + 2 * 5\n",
        "print(x)"
      ]
    },
    {
      "cell_type": "code",
      "execution_count": 54,
      "metadata": {
        "colab": {
          "base_uri": "https://localhost:8080/"
        },
        "id": "Zw5Rc-z2tBU7",
        "outputId": "77ba4468-00f4-4b02-f8ad-b4920a6f8502"
      },
      "outputs": [
        {
          "output_type": "stream",
          "name": "stdout",
          "text": [
            "25\n"
          ]
        }
      ],
      "source": [
        "x = (3 + 2) * 5\n",
        "print(x)"
      ]
    },
    {
      "cell_type": "code",
      "execution_count": 55,
      "metadata": {
        "colab": {
          "base_uri": "https://localhost:8080/"
        },
        "id": "SmMGup3ZtBU8",
        "outputId": "b2eeae77-4fe7-4b94-d4e7-e38774359ea0"
      },
      "outputs": [
        {
          "output_type": "stream",
          "name": "stdout",
          "text": [
            "4.3076923076923075\n"
          ]
        }
      ],
      "source": [
        "x = ( (25 % 13) + 100) / (2 * 13)\n",
        "print(x)"
      ]
    },
    {
      "cell_type": "code",
      "execution_count": 56,
      "metadata": {
        "colab": {
          "base_uri": "https://localhost:8080/"
        },
        "id": "sN3fbTZMtBU8",
        "outputId": "ff74e463-12f0-4f78-d87c-275a6cef0754"
      },
      "outputs": [
        {
          "output_type": "stream",
          "name": "stdout",
          "text": [
            "False\n"
          ]
        }
      ],
      "source": [
        "print( 5 > 7 )"
      ]
    },
    {
      "cell_type": "code",
      "execution_count": 57,
      "metadata": {
        "colab": {
          "base_uri": "https://localhost:8080/"
        },
        "id": "vZaAYQ9AtBU8",
        "outputId": "3d738957-a32f-4097-f8c5-ae3c39e1e72e"
      },
      "outputs": [
        {
          "output_type": "stream",
          "name": "stdout",
          "text": [
            "False\n"
          ]
        }
      ],
      "source": [
        "# Doble signo de igual sirve para comparar\n",
        "print( 5 == 7 )"
      ]
    },
    {
      "cell_type": "code",
      "execution_count": 58,
      "metadata": {
        "colab": {
          "base_uri": "https://localhost:8080/",
          "height": 106
        },
        "id": "TOxoNA5DtBU8",
        "outputId": "c73050bb-d542-4788-d8ce-35620a56bcbb"
      },
      "outputs": [
        {
          "output_type": "error",
          "ename": "SyntaxError",
          "evalue": "expression cannot contain assignment, perhaps you meant \"==\"? (ipython-input-1562365463.py, line 2)",
          "traceback": [
            "\u001b[0;36m  File \u001b[0;32m\"/tmp/ipython-input-1562365463.py\"\u001b[0;36m, line \u001b[0;32m2\u001b[0m\n\u001b[0;31m    print( 5 = 7 )\u001b[0m\n\u001b[0m           ^\u001b[0m\n\u001b[0;31mSyntaxError\u001b[0m\u001b[0;31m:\u001b[0m expression cannot contain assignment, perhaps you meant \"==\"?\n"
          ]
        }
      ],
      "source": [
        "# Un signo de igual sirve para asignar un valor\n",
        "print( 5 = 7 )"
      ]
    },
    {
      "cell_type": "raw",
      "metadata": {
        "id": "JLr0x7WxtBU9"
      },
      "source": []
    },
    {
      "cell_type": "markdown",
      "metadata": {
        "id": "F55qoMC1tBU9"
      },
      "source": [
        "## 1.6 Entrada de datos  <a id='id6'> </a>\n",
        "\n",
        "- La función **input()** es capaz de leer datos que fueron introducidos por el usuario y pasar esos datos al programa en ejecución.\n",
        "- **El resultado debe ser asignado a una variable**; esto es crucial, si no se hace los datos introducidos se perderán.\n",
        "- La función pondrá la consola en modo de entrada; aparecerá un cursor que parpadea, y podrás introducir datos con el teclado, al terminar presiona la tecla Enter"
      ]
    },
    {
      "cell_type": "code",
      "execution_count": 59,
      "metadata": {
        "colab": {
          "base_uri": "https://localhost:8080/"
        },
        "id": "j4LYNKGbtBU9",
        "outputId": "2d9d41aa-57b4-42a6-f9ee-5d2f877ee0fe"
      },
      "outputs": [
        {
          "output_type": "stream",
          "name": "stdout",
          "text": [
            "Escribe tu nombreJOSE\n",
            "Tu nombre es  JOSE\n"
          ]
        }
      ],
      "source": [
        "variable = input(\"Escribe tu nombre\")\n",
        "print(\"Tu nombre es \", variable)"
      ]
    },
    {
      "cell_type": "code",
      "execution_count": 60,
      "metadata": {
        "colab": {
          "base_uri": "https://localhost:8080/"
        },
        "id": "wsd7NRi-tBU-",
        "outputId": "590b4466-4594-4753-ca5b-c7f473131339"
      },
      "outputs": [
        {
          "output_type": "stream",
          "name": "stdout",
          "text": [
            "¿Me puedes dar tu nombre por favor? JOSE\n",
            "¿Me puedes dar tu apellido por favor? RODRIGUEZ\n",
            "Gracias.\n",
            "\n",
            "Tu nombre es JOSE RODRIGUEZ.\n"
          ]
        }
      ],
      "source": [
        "nom = input(\"¿Me puedes dar tu nombre por favor? \")\n",
        "ape = input(\"¿Me puedes dar tu apellido por favor? \")\n",
        "print(\"Gracias.\")\n",
        "print(\"\\nTu nombre es \" + nom + \" \" + ape + \".\")"
      ]
    },
    {
      "cell_type": "code",
      "execution_count": 61,
      "metadata": {
        "colab": {
          "base_uri": "https://localhost:8080/"
        },
        "id": "_CP9eMWetBU-",
        "outputId": "9a9f862b-e6fd-4782-98ec-8083b6644b12"
      },
      "outputs": [
        {
          "output_type": "stream",
          "name": "stdout",
          "text": [
            "Dame un numero para multiplicar\n",
            "\n"
          ]
        }
      ],
      "source": [
        "# Marca error porque se debe convertir el tipo de dato\n",
        "x = input(\"Dame un numero para multiplicar\")\n",
        "z = x * 5\n",
        "print(z)"
      ]
    },
    {
      "cell_type": "code",
      "execution_count": 62,
      "metadata": {
        "colab": {
          "base_uri": "https://localhost:8080/"
        },
        "id": "-JOP--JGtBU-",
        "outputId": "605f7958-dcd6-4cb5-dc22-1e0ac8910302"
      },
      "outputs": [
        {
          "output_type": "stream",
          "name": "stdout",
          "text": [
            "Dame un numero para multiplicar8\n",
            "40\n"
          ]
        }
      ],
      "source": [
        "x = int(input(\"Dame un numero para multiplicar\") )\n",
        "z = x * 5\n",
        "print(z)"
      ]
    },
    {
      "cell_type": "markdown",
      "metadata": {
        "id": "KdMtPubHtBU_"
      },
      "source": [
        "##  Ejercicio 1 de lectura de datos\n",
        "\n",
        "**Calcular la longitud de la hipotenusa**"
      ]
    },
    {
      "cell_type": "code",
      "execution_count": 63,
      "metadata": {
        "id": "JJML0WM4tBU_"
      },
      "outputs": [],
      "source": [
        "##  ponerles de reto un programa simple:  calcular la longitud de la hipotenusa\n",
        "## triangulo rectangulo\n",
        "## https://www.montereyinstitute.org/courses/DevelopmentalMath/TEXTGROUP-1-8_RESOURCE/U07_L1_T4_text_final_es.html"
      ]
    },
    {
      "cell_type": "code",
      "execution_count": 64,
      "metadata": {
        "colab": {
          "base_uri": "https://localhost:8080/"
        },
        "id": "9b5XKzPPtBU_",
        "outputId": "4a3807ad-4303-417a-a165-ba9b4bef89aa"
      },
      "outputs": [
        {
          "output_type": "stream",
          "name": "stdout",
          "text": [
            "Inserta la longitud del primer cateto: 10\n",
            "Inserta la longitud del segundo cateto 5\n",
            "La longitud de la hipotenusa es:  11.180339887498949\n"
          ]
        }
      ],
      "source": [
        "cateto_a = float(input(\"Inserta la longitud del primer cateto: \"))\n",
        "cateto_b = float(input(\"Inserta la longitud del segundo cateto \"))\n",
        "hipo = (cateto_a**2 + cateto_b**2) ** .5\n",
        "print(\"La longitud de la hipotenusa es: \", hipo)"
      ]
    },
    {
      "cell_type": "code",
      "execution_count": 65,
      "metadata": {
        "id": "WHSxd7RmtBU_"
      },
      "outputs": [],
      "source": [
        "##  ponerles de reto un programa simple:\n",
        "##  Demostrar el teorema de pitagoras\n",
        "##  a**2 + b**2  = c**\""
      ]
    },
    {
      "cell_type": "code",
      "execution_count": 66,
      "metadata": {
        "colab": {
          "base_uri": "https://localhost:8080/"
        },
        "id": "e9UjgdI1tBVA",
        "outputId": "bf403e00-f943-4458-a67c-c615db6271a5"
      },
      "outputs": [
        {
          "output_type": "stream",
          "name": "stdout",
          "text": [
            "Inserta la longitud del primer cateto: 10\n",
            "Inserta la longitud del segundo cateto 5\n",
            "valor de los catetos = 125.0\n",
            "valor de la hipotenusas = 125.00000000000001\n"
          ]
        }
      ],
      "source": [
        "cateto_a = float(input(\"Inserta la longitud del primer cateto: \"))\n",
        "cateto_b = float(input(\"Inserta la longitud del segundo cateto \"))\n",
        "hipo = (cateto_a**2 + cateto_b**2) ** .5\n",
        "catetos = (cateto_a**2 + cateto_b**2)\n",
        "print(\"valor de los catetos =\", catetos)\n",
        "print(\"valor de la hipotenusas =\", hipo**2)"
      ]
    },
    {
      "cell_type": "markdown",
      "metadata": {
        "id": "rZjRacCctBVA"
      },
      "source": [
        "##  1.7 Condiciones  <a id='id7'> </a>\n",
        "\n",
        "En programación, una sentencia condicional es una instrucción o grupo de instrucciones que se pueden ejecutar o no en función del resultado (TRUE o FALSE) de una expresión."
      ]
    },
    {
      "cell_type": "markdown",
      "metadata": {
        "id": "bjS7HJt7tBVA"
      },
      "source": [
        "## if else\n",
        "\n",
        "**Ejecuta codigo dependiendo del resultado de una condición**\n",
        "\n",
        "`\n",
        "if true_or_false_condition:\n",
        "    perform_if_condition_true\n",
        "else:\n",
        "    perform_if_condition_false\n",
        "`\n",
        "\n",
        "\n",
        "> **La ejecución de if-else es la siguiente:**\n",
        "\n",
        "- Si la condición se evalúa como **True** (su valor no es igual a cero), la instrucción *perform_if_condition_true* se ejecuta, y la sentencia condicional llega a su fin.\n",
        "- Si la condición se evalúa como **False** (es igual a cero), la instrucción *perform_if_condition_false* se ejecuta, y la sentencia condicional llega a su fin.\n",
        "    \n",
        "    \n",
        "1. El resultado de la condicion debe ser verdadero (TRUE) o falso (FALSE)\n",
        "2. Python se basa en la sangría, usando espacios en blanco, para definir el alcance en el código.\n",
        "3. Otros lenguajes de programación a menudo utilizan llaves para este propósito."
      ]
    },
    {
      "cell_type": "code",
      "execution_count": 98,
      "metadata": {
        "colab": {
          "base_uri": "https://localhost:8080/"
        },
        "id": "5hPOInNktBVA",
        "outputId": "fc94c2a3-aea9-4724-ee25-32ab311c94c4"
      },
      "outputs": [
        {
          "output_type": "stream",
          "name": "stdout",
          "text": [
            "b es mayor que a\n",
            "Fin del if\n"
          ]
        }
      ],
      "source": [
        "#\n",
        "a = 3000\n",
        "b = 12500\n",
        "if  b > a:\n",
        "    print(\"b es mayor que a\")\n",
        "else:\n",
        "    print(\"a es mayor que b\")\n",
        "\n",
        "print(\"Fin del if\")"
      ]
    },
    {
      "cell_type": "code",
      "execution_count": 99,
      "metadata": {
        "colab": {
          "base_uri": "https://localhost:8080/"
        },
        "id": "nuDT1ssWtBVB",
        "outputId": "4675848c-cedf-4286-cab0-4f0f8d267134"
      },
      "outputs": [
        {
          "output_type": "stream",
          "name": "stdout",
          "text": [
            "b es mayor que a\n",
            "12500 es mayor que 3000\n",
            "Fin del if\n"
          ]
        }
      ],
      "source": [
        "##  Mas de una linea en un bloque de codigo\n",
        "a = 3000\n",
        "b = 12500\n",
        "if b > a:\n",
        "    print(\"b es mayor que a\")\n",
        "    print(b, \"es mayor que\", a)\n",
        "else:\n",
        "    print(\"a es mayor que b\")\n",
        "    print(a, \" es mayor que\", b)\n",
        "print(\"Fin del if\")"
      ]
    },
    {
      "cell_type": "markdown",
      "metadata": {
        "id": "rMCsuNOltBVB"
      },
      "source": [
        "## elfif   \n",
        "### Cuando se tiene que evaluar varias condiciones"
      ]
    },
    {
      "cell_type": "code",
      "execution_count": 100,
      "metadata": {
        "colab": {
          "base_uri": "https://localhost:8080/"
        },
        "id": "gb8pMRSTtBVB",
        "outputId": "c45f57e7-b0b6-4c0e-8cd3-a4f4b04036d8"
      },
      "outputs": [
        {
          "output_type": "stream",
          "name": "stdout",
          "text": [
            "a es igual que b\n",
            "a y b valen => 3000\n",
            "Fin del if\n"
          ]
        }
      ],
      "source": [
        "##  Mas de una linea en un bloque de codigo\n",
        "a = 3000\n",
        "b = 3000\n",
        "if b > a:\n",
        "    print(\"b es mayor que a\")\n",
        "    print(\"b vale =>\", b)\n",
        "elif a==b:\n",
        "    print(\"a es igual que b\")\n",
        "    print(\"a y b valen =>\", a)\n",
        "else:\n",
        "    print(\"a es mayor que b\")\n",
        "    print(\"a vale =>\", a)\n",
        "\n",
        "print(\"Fin del if\")"
      ]
    },
    {
      "cell_type": "markdown",
      "metadata": {
        "id": "qCvQjBpftBVB"
      },
      "source": [
        "### if simplificado en una sola linea"
      ]
    },
    {
      "cell_type": "code",
      "execution_count": 70,
      "metadata": {
        "colab": {
          "base_uri": "https://localhost:8080/"
        },
        "id": "6hl-raZYtBVB",
        "outputId": "3bc0dc38-187e-4430-aa47-f6e5534bb72d"
      },
      "outputs": [
        {
          "output_type": "stream",
          "name": "stdout",
          "text": [
            "y es mayor que x\n"
          ]
        }
      ],
      "source": [
        "# if y if.. else en version corta o simplificada\n",
        "# del lado izquierdo es cuando es verdadera la condicion\n",
        "\n",
        "x = 50\n",
        "y = 60\n",
        "\n",
        "print(\"x es mayor que y\") if (x > y) else print(\"y es mayor que x\")"
      ]
    },
    {
      "cell_type": "markdown",
      "metadata": {
        "id": "xPgeipKOtBVB"
      },
      "source": [
        "##  1.8 Ciclos o bucles <a id='id8'> </a>"
      ]
    },
    {
      "cell_type": "markdown",
      "metadata": {
        "id": "9UZNqwFrtBVC"
      },
      "source": [
        "###   1.8.1  While\n",
        "\n",
        "- Repite la ejecución de un bloque de instrucciones siempre que la condición se evalúe como **True**\n",
        "- Si la condición es **False** tan pronto como se compruebe por primera vez, el cuerpo no se ejecuta ni una sola vez.\n",
        "- En el bloque de instrucciones debe poder cambiar el valor de la condición a **FALSE**, porque si la condición es True al principio, el cuerpo podría funcionar continuamente hasta el infinito.\n",
        "- Las sentencias **break**, **continue** y **else**\n",
        "\n",
        "\n",
        "`\n",
        " while conditional_expression:\n",
        "    instruction_one\n",
        "    instruction_two\n",
        "    instruction_three\n",
        "    :\n",
        "    :\n",
        "    instruction_n\n",
        "`"
      ]
    },
    {
      "cell_type": "code",
      "execution_count": 71,
      "metadata": {
        "colab": {
          "base_uri": "https://localhost:8080/"
        },
        "id": "6CQ9xut4tBVC",
        "outputId": "c1e4917e-7fa1-4a45-d348-4ec4b26abb65"
      },
      "outputs": [
        {
          "output_type": "stream",
          "name": "stdout",
          "text": [
            "1\n",
            "2\n",
            "3\n",
            "4\n",
            "5\n",
            "6\n",
            "7\n",
            "8\n",
            "9\n",
            "10\n",
            "fuera del while\n"
          ]
        }
      ],
      "source": [
        "i= 1\n",
        "while i <= 10:\n",
        "    print(i)\n",
        "    i += 1\n",
        "print(\"fuera del while\")"
      ]
    },
    {
      "cell_type": "markdown",
      "metadata": {
        "id": "PhW92cxKtBVC"
      },
      "source": [
        "### break\n",
        "\n",
        "**break:** sale del bucle inmediatamente, e incondicionalmente termina la operación del bucle;"
      ]
    },
    {
      "cell_type": "code",
      "execution_count": 72,
      "metadata": {
        "colab": {
          "base_uri": "https://localhost:8080/"
        },
        "id": "P-NwIW7dtBVD",
        "outputId": "8db68ac7-24f6-4f4a-883c-06feb8651913"
      },
      "outputs": [
        {
          "output_type": "stream",
          "name": "stdout",
          "text": [
            "1\n",
            "2\n",
            "3\n",
            "4\n",
            "5\n",
            "6\n",
            "7\n",
            "8\n",
            "9\n",
            "10\n",
            "Entro al if\n",
            "fuera del while\n"
          ]
        }
      ],
      "source": [
        "#  Copiamos el ejmplo anterior para poner contexto BREAK\n",
        "# Agregamos una condicion para que se saga del ciclo cuando se cumpla un criterio\n",
        "i= 1\n",
        "while i <= 1000:\n",
        "    print(i)\n",
        "    if i == 10:\n",
        "        print(\"Entro al if\")\n",
        "        break\n",
        "    i += 1\n",
        "print(\"fuera del while\")"
      ]
    },
    {
      "cell_type": "code",
      "execution_count": 73,
      "metadata": {
        "scrolled": true,
        "colab": {
          "base_uri": "https://localhost:8080/"
        },
        "id": "UOlzbr29tBVD",
        "outputId": "30dd85f9-9940-4e28-e3e7-13fd4f70784f"
      },
      "outputs": [
        {
          "output_type": "stream",
          "name": "stdout",
          "text": [
            "Selecciona una opcion\n",
            "    1) Opcion 1\n",
            "    2) opcion 2\n",
            "    3) Salir\n",
            "¿Cuál es la opcion que deseas?  1\n",
            "Seleccionaste la Opcion 1 \n",
            "\n",
            "Selecciona una opcion\n",
            "    1) Opcion 1\n",
            "    2) opcion 2\n",
            "    3) Salir\n",
            "¿Cuál es la opcion que deseas?  3\n",
            "Seleccionaste la Opcion Salir\n",
            "Fuera del ciclo\n"
          ]
        }
      ],
      "source": [
        "while(True):\n",
        "    print(\"\"\"Selecciona una opcion\n",
        "    1) Opcion 1\n",
        "    2) opcion 2\n",
        "    3) Salir\"\"\")\n",
        "    opcion = input(\"¿Cuál es la opcion que deseas?  \")\n",
        "    if opcion == '1':\n",
        "        print(\"Seleccionaste la Opcion 1 \\n\")\n",
        "    elif opcion =='2':\n",
        "        print(\"Seleccionaste la Opcion 2 \\n\")\n",
        "    elif opcion == \"3\":\n",
        "        print(\"Seleccionaste la Opcion Salir\")\n",
        "        break\n",
        "    else:\n",
        "        print(\"Opcion desconocida, vuelve a intentarlo\")\n",
        "\n",
        "print(\"Fuera del ciclo\")"
      ]
    },
    {
      "cell_type": "markdown",
      "metadata": {
        "id": "tbdueGO0tBVD"
      },
      "source": [
        "###  1.8.2 For\n",
        "\n",
        "- Repite la ejecución de un bloque de instrucciones un determinado número de veces\n",
        "- Cualquier variable después de la palabra reservada **for** es la variable de control del ciclo; cuenta los giros del ciclo y lo hace automáticamente.\n",
        "- La palabra reservada **in** introduce un elemento de sintaxis que describe el rango de valores posibles que se asignan a la variable de control.\n",
        "- La función **range()** (esta es una función muy especial) es responsable de generar todos los valores deseados de la variable de control.\n",
        "\n",
        "`\n",
        "for i in range(1, 10):\n",
        "    instruction_one\n",
        "    instruction_two\n",
        "    instruction_three\n",
        "    :\n",
        "    :\n",
        "    instruction_n\n",
        "`\n",
        "\n",
        "- El primer argumento determina el valor inicial (primero) de la variable de control.\n",
        "- El último argumento muestra el primer valor que no se asignará a la variable de control.\n",
        "- Las sentencias **break**, **continue** y **else**\n",
        "- Nota: la función range() solo acepta enteros como argumentos"
      ]
    },
    {
      "cell_type": "code",
      "execution_count": 74,
      "metadata": {
        "colab": {
          "base_uri": "https://localhost:8080/"
        },
        "id": "6cOZ0KpItBVD",
        "outputId": "589d1295-32b2-4745-a286-b8d0aa60e792"
      },
      "outputs": [
        {
          "output_type": "stream",
          "name": "stdout",
          "text": [
            "0\n",
            "1\n",
            "2\n",
            "3\n",
            "4\n"
          ]
        }
      ],
      "source": [
        "# si no se especifica un rango inicial por default empieza en cero\n",
        "\n",
        "# cuando se establece el limite o rango final siempre sera ese valor menos 1\n",
        "for x in range(5):\n",
        "    print(x)"
      ]
    },
    {
      "cell_type": "code",
      "execution_count": 75,
      "metadata": {
        "colab": {
          "base_uri": "https://localhost:8080/"
        },
        "id": "i6eHVewAtBVD",
        "outputId": "548c951f-c828-4523-bd2c-7f6c12d9399c"
      },
      "outputs": [
        {
          "output_type": "stream",
          "name": "stdout",
          "text": [
            "2\n",
            "3\n",
            "4\n"
          ]
        }
      ],
      "source": [
        "for z in range(2, 5):\n",
        "    print(z)"
      ]
    },
    {
      "cell_type": "code",
      "execution_count": 76,
      "metadata": {
        "colab": {
          "base_uri": "https://localhost:8080/"
        },
        "id": "6BP-hwr_tBVE",
        "outputId": "a252a25d-283d-4be2-962c-8377b7277a6f"
      },
      "outputs": [
        {
          "output_type": "stream",
          "name": "stdout",
          "text": [
            "1\n",
            "3\n",
            "5\n",
            "7\n",
            "9\n",
            "11\n",
            "13\n",
            "15\n",
            "17\n",
            "19\n",
            "21\n",
            "23\n"
          ]
        }
      ],
      "source": [
        "# tercer parametro para el incremento\n",
        "\n",
        "for z in range(1, 25, 2):\n",
        "    print(z)"
      ]
    },
    {
      "cell_type": "markdown",
      "metadata": {
        "id": "jlHwZ0rrtBVE"
      },
      "source": [
        "### break, continue y else\n",
        "\n",
        "- **break:** sale del bucle inmediatamente, e incondicionalmente termina la operación del bucle;\n",
        "- **continue:** se comporta como si el programa hubiera llegado repentinamente al final del cuerpo; el siguiente turno se inicia y la expresión de condición se prueba de inmediato.\n",
        "- **else:** La cláusula else se ejecuta después de que el bucle finalice su ejecución siempre y cuando no haya terminado con break"
      ]
    },
    {
      "cell_type": "code",
      "execution_count": 77,
      "metadata": {
        "colab": {
          "base_uri": "https://localhost:8080/"
        },
        "id": "v_yDT5vhtBVE",
        "outputId": "d34b4c09-b64d-44d7-f069-908c02df43d1"
      },
      "outputs": [
        {
          "output_type": "stream",
          "name": "stdout",
          "text": [
            "La instruccion break\n",
            "Esto es un print dentro del for\n",
            "Entro al if\n",
            "Fuera del For\n"
          ]
        }
      ],
      "source": [
        "print(\"La instruccion break\")\n",
        "variablez = True  # Variable de tipo Booleana\n",
        "\n",
        "for i in range( 1, 6):\n",
        "    print(\"Esto es un print dentro del for\")\n",
        "    if variablez:\n",
        "        print(\"Entro al if\")\n",
        "        break\n",
        "print(\"Fuera del For\")"
      ]
    },
    {
      "cell_type": "code",
      "execution_count": 78,
      "metadata": {
        "colab": {
          "base_uri": "https://localhost:8080/"
        },
        "id": "biZNJevdtBVE",
        "outputId": "a5800dbe-9bc7-43e5-e29e-e047f1112424"
      },
      "outputs": [
        {
          "output_type": "stream",
          "name": "stdout",
          "text": [
            "La instrucción break:\n",
            "Dentro del bucle. 1\n",
            "Dentro del bucle. 2\n",
            "Fuera del bucle.\n",
            "\n",
            "La instrucción continue:\n",
            "Dentro del bucle. 1\n",
            "Dentro del bucle. 2\n",
            "Dentro del bucle. 4\n",
            "Dentro del bucle. 5\n",
            "Fuera del bucle.\n"
          ]
        }
      ],
      "source": [
        "print(\"La instrucción break:\")\n",
        "for i in range(1, 6):\n",
        "    if i == 3:\n",
        "        break\n",
        "    print(\"Dentro del bucle.\", i)\n",
        "print(\"Fuera del bucle.\")\n",
        "\n",
        "\n",
        "# continue - ejemplo\n",
        "\n",
        "print(\"\\nLa instrucción continue:\")\n",
        "for i in range(1, 6):\n",
        "    if i == 3:\n",
        "        continue\n",
        "    print(\"Dentro del bucle.\", i)\n",
        "print(\"Fuera del bucle.\")"
      ]
    },
    {
      "cell_type": "code",
      "execution_count": 79,
      "metadata": {
        "colab": {
          "base_uri": "https://localhost:8080/"
        },
        "id": "0d35ZdvYtBVE",
        "outputId": "31a8fdb5-73ca-494c-82f4-6b55fe0c4f87"
      },
      "outputs": [
        {
          "output_type": "stream",
          "name": "stdout",
          "text": [
            "platano\n",
            "naranja\n"
          ]
        }
      ],
      "source": [
        "frutas = [\"platano\", \"naranja\", \"manzana\"]\n",
        "for x in frutas:\n",
        "    print(x)\n",
        "    if x == \"naranja\":\n",
        "        break"
      ]
    },
    {
      "cell_type": "code",
      "execution_count": 80,
      "metadata": {
        "colab": {
          "base_uri": "https://localhost:8080/"
        },
        "id": "k7B1jn56tBVE",
        "outputId": "68fc2c4f-5323-4166-bda6-bda79bbded94"
      },
      "outputs": [
        {
          "output_type": "stream",
          "name": "stdout",
          "text": [
            "0\n",
            "1\n",
            "2\n",
            "3 else\n",
            "\n",
            "0\n",
            "1\n",
            "2\n",
            "2 else\n"
          ]
        }
      ],
      "source": [
        "n = 0\n",
        "while n != 3:\n",
        "    print(n)\n",
        "    n += 1\n",
        "else:\n",
        "    print(n, \"else\")\n",
        "\n",
        "print()  # Para generar una linea en blanco\n",
        "\n",
        "for i in range(0, 3):\n",
        "    print(i)\n",
        "else:\n",
        "    print(i, \"else\")"
      ]
    },
    {
      "cell_type": "code",
      "execution_count": 81,
      "metadata": {
        "colab": {
          "base_uri": "https://localhost:8080/"
        },
        "id": "nbMKLjkftBVE",
        "outputId": "1ce2d4c4-a9f8-429c-9c68-5b86c737f103"
      },
      "outputs": [
        {
          "output_type": "stream",
          "name": "stdout",
          "text": [
            "platano\n",
            "naranja\n",
            "manzana\n"
          ]
        }
      ],
      "source": [
        "# Tambien se usa para iterar sobre una lista de valores\n",
        "# Hablaremos mas adelante de las listas\n",
        "\n",
        "frutas = [\"platano\", \"naranja\", \"manzana\"]\n",
        "for x in frutas:\n",
        "    print(x)"
      ]
    },
    {
      "cell_type": "markdown",
      "metadata": {
        "id": "IIW-5PRftBVE"
      },
      "source": [
        "## Ejercicio 2\n",
        "\n",
        "**Ejercicio de  tablas**\n",
        "\n",
        "Que pida cual numero se quiere multiplicar"
      ]
    },
    {
      "cell_type": "code",
      "execution_count": 82,
      "metadata": {
        "colab": {
          "base_uri": "https://localhost:8080/"
        },
        "id": "uOKtYgm3tBVF",
        "outputId": "7c971866-f4c8-4f76-c169-067b91742c3f"
      },
      "outputs": [
        {
          "output_type": "stream",
          "name": "stdout",
          "text": [
            "Cual tabla de multiplicar quieres3\n",
            "3  por 1 es igual a 3\n",
            "3  por 2 es igual a 6\n",
            "3  por 3 es igual a 9\n",
            "3  por 4 es igual a 12\n",
            "3  por 5 es igual a 15\n",
            "3  por 6 es igual a 18\n",
            "3  por 7 es igual a 21\n",
            "3  por 8 es igual a 24\n",
            "3  por 9 es igual a 27\n",
            "3  por 10 es igual a 30\n"
          ]
        }
      ],
      "source": [
        "\n",
        "tabla= int(input(\"Cual tabla de multiplicar quieres\"))\n",
        "for i in range (1,11):\n",
        "    print(tabla, \" por\", i, \"es igual a\", tabla*i)"
      ]
    },
    {
      "cell_type": "markdown",
      "metadata": {
        "id": "zeiOLYxitBVF"
      },
      "source": [
        "## 1.9 Funciones  <a id='id9'> </a>\n",
        "\n",
        "Una función es una parte separada del código de computadora el cual es capaz de:\n",
        "- Causar algún efecto (por ejemplo, enviar texto a la terminal, crear un archivo, dibujar una imagen, reproducir un sonido, etc.).\n",
        "- Evaluar un valor (por ejemplo, la raíz cuadrada de un valor o la longitud de un texto dado) y devolverlo como el resultado de la función.\n",
        "- Simplificar tareas tediosas y repetitivas.\n",
        "- **Si un fragmento de código comienza a aparecer en más de una ocasión, considera la posibilidad de aislarlo en la forma de una función**, invocando la función desde el lugar en el que originalmente se encontraba.\n",
        "- Una función puede tener o no argumento(s).\n",
        "- Un buen desarrollador **divide el código (o mejor dicho: el problema) en piezas aisladas**, y codifica cada una de ellas en la forma de una función.\n",
        "- La función print (por ejemplo) es una función integrada al nucleo de Python y no se necesita instalar programas adicionales.\n",
        "- Para extender las funciones de Python existen librerías con funciones especificas (por ejemplo crear interfaces graficas, o Web) que se pueden instalar por separado.\n",
        "- El programador de Python puede crear sus propias funciones de acuerdo a sus necesidades.\n"
      ]
    },
    {
      "cell_type": "markdown",
      "metadata": {
        "id": "8ejiqcmVtBVF"
      },
      "source": [
        "#### Recomendaciones al crear funciones\n",
        "- Al escribir tus propias funciones, debes considerar cuidadosamente la elección de nombres.\n",
        "- El nombre de la función debe ser significativo (el nombre de la función print es evidente), imprime en la terminal.\n",
        "- Algunas funciones vienen con Python, otras pueden requerir una instalación por separado"
      ]
    },
    {
      "cell_type": "code",
      "execution_count": 83,
      "metadata": {
        "id": "kwy79UYitBVF"
      },
      "outputs": [],
      "source": [
        "def funcion_saludar():\n",
        "    print(\"Hola mundo, desde mi funcion\")"
      ]
    },
    {
      "cell_type": "code",
      "execution_count": 84,
      "metadata": {
        "colab": {
          "base_uri": "https://localhost:8080/"
        },
        "id": "hVu7n6B8tBVF",
        "outputId": "ac0d5e29-8110-48be-e3d5-eadc25648e6f"
      },
      "outputs": [
        {
          "output_type": "stream",
          "name": "stdout",
          "text": [
            "Hola mundo, desde mi funcion\n"
          ]
        }
      ],
      "source": [
        "funcion_saludar()"
      ]
    },
    {
      "cell_type": "code",
      "execution_count": 85,
      "metadata": {
        "id": "vZi1ysVYtBVF"
      },
      "outputs": [],
      "source": [
        "# Parámetros en funciones\n",
        "def tablas_multiplicar(x):\n",
        "    for z in range(1,11):\n",
        "        print(x, \"por\", z, \"=\", x * z)\n",
        "    print(\"\\nfin de la función\")"
      ]
    },
    {
      "cell_type": "code",
      "execution_count": 86,
      "metadata": {
        "colab": {
          "base_uri": "https://localhost:8080/"
        },
        "id": "XBVSC-pRtBVF",
        "outputId": "7d59c4e1-10e1-4e91-d2b3-cb61923f4d51"
      },
      "outputs": [
        {
          "output_type": "stream",
          "name": "stdout",
          "text": [
            "2 por 1 = 2\n",
            "2 por 2 = 4\n",
            "2 por 3 = 6\n",
            "2 por 4 = 8\n",
            "2 por 5 = 10\n",
            "2 por 6 = 12\n",
            "2 por 7 = 14\n",
            "2 por 8 = 16\n",
            "2 por 9 = 18\n",
            "2 por 10 = 20\n",
            "\n",
            "fin de la función\n"
          ]
        }
      ],
      "source": [
        "tablas_multiplicar(2)"
      ]
    },
    {
      "cell_type": "code",
      "execution_count": 87,
      "metadata": {
        "colab": {
          "base_uri": "https://localhost:8080/"
        },
        "id": "mb9TG_VNtBVG",
        "outputId": "0aebf5b9-3927-4bf9-f284-9630683ef91d"
      },
      "outputs": [
        {
          "output_type": "stream",
          "name": "stdout",
          "text": [
            "10 por 1 = 10\n",
            "10 por 2 = 20\n",
            "10 por 3 = 30\n",
            "10 por 4 = 40\n",
            "10 por 5 = 50\n",
            "10 por 6 = 60\n",
            "10 por 7 = 70\n",
            "10 por 8 = 80\n",
            "10 por 9 = 90\n",
            "10 por 10 = 100\n",
            "\n",
            "fin de la función\n"
          ]
        }
      ],
      "source": [
        "tablas_multiplicar(10)"
      ]
    },
    {
      "cell_type": "code",
      "execution_count": 88,
      "metadata": {
        "colab": {
          "base_uri": "https://localhost:8080/"
        },
        "id": "ArvCGyz0tBVG",
        "outputId": "b34622f6-6669-4369-ac35-3f768c3cf2b3"
      },
      "outputs": [
        {
          "output_type": "stream",
          "name": "stdout",
          "text": [
            "1345 por 1 = 1345\n",
            "1345 por 2 = 2690\n",
            "1345 por 3 = 4035\n",
            "1345 por 4 = 5380\n",
            "1345 por 5 = 6725\n",
            "1345 por 6 = 8070\n",
            "1345 por 7 = 9415\n",
            "1345 por 8 = 10760\n",
            "1345 por 9 = 12105\n",
            "1345 por 10 = 13450\n",
            "\n",
            "fin de la función\n"
          ]
        }
      ],
      "source": [
        "tablas_multiplicar(1345)"
      ]
    },
    {
      "cell_type": "markdown",
      "metadata": {
        "id": "L4sZu_MItBVG"
      },
      "source": [
        "### Paso de parámetros con argumentos posicionales\n",
        "\n",
        "- Los argumentos (parámetros) son utilizados de acuerdo a la posición que se definieron y en la invocación de la función\n"
      ]
    },
    {
      "cell_type": "code",
      "execution_count": 89,
      "metadata": {
        "colab": {
          "base_uri": "https://localhost:8080/"
        },
        "id": "vdldnUmztBVG",
        "outputId": "18012b89-aea0-4143-8bf4-f88c2b9c6d42"
      },
      "outputs": [
        {
          "output_type": "stream",
          "name": "stdout",
          "text": [
            "Hola, mi nombre es Luke Skywalker y mi edad es 40\n",
            "Hola, mi nombre es Clark Kent y mi edad es 35\n"
          ]
        }
      ],
      "source": [
        "def presentar(nombre, apellido, edad):\n",
        "    print(\"Hola, mi nombre es\", nombre, apellido, \"y mi edad es\", edad)\n",
        "\n",
        "presentar(\"Luke\", \"Skywalker\" , 40 )\n",
        "presentar(\"Clark\", \"Kent\",  35)"
      ]
    },
    {
      "cell_type": "markdown",
      "metadata": {
        "id": "lcpYPh9etBVG"
      },
      "source": [
        "### Paso de parametros con valores predefinidos"
      ]
    },
    {
      "cell_type": "code",
      "execution_count": 90,
      "metadata": {
        "colab": {
          "base_uri": "https://localhost:8080/"
        },
        "id": "XKpKLGO2tBVG",
        "outputId": "0d3bcde4-2f3a-444f-9f25-e6f0ecc93063"
      },
      "outputs": [
        {
          "output_type": "stream",
          "name": "stdout",
          "text": [
            "Hola, mi nombre es Juan Salazar\n",
            "Hola, mi nombre es Juan Rodriguez\n"
          ]
        }
      ],
      "source": [
        "def presentar(nombre, apellido = \"Rodriguez\"):\n",
        "    print(\"Hola, mi nombre es\", nombre, apellido)\n",
        "\n",
        "presentar(\"Juan\", \"Salazar\")\n",
        "presentar(\"Juan\")"
      ]
    },
    {
      "cell_type": "markdown",
      "metadata": {
        "id": "Qa50Rf34tBVG"
      },
      "source": [
        "### Paso de parametros por palabra clave (nombre del parametro)\n",
        "\n",
        "- Los valores pasados a los parámetros son precedidos por el nombre del parámetro al que se le va a pasar el valor, seguido por el signo de **=**.\n",
        "- La posición no es relevante aquí, cada argumento conoce su destino con base en el nombre utilizado."
      ]
    },
    {
      "cell_type": "code",
      "execution_count": 91,
      "metadata": {
        "colab": {
          "base_uri": "https://localhost:8080/"
        },
        "id": "aS8L_FKstBVG",
        "outputId": "b2142b9a-a45f-4e4a-8fff-2de583e43527"
      },
      "outputs": [
        {
          "output_type": "stream",
          "name": "stdout",
          "text": [
            "Hola, mi nombre es James Bond\n",
            "Hola, mi nombre es Luke Skywalker\n"
          ]
        }
      ],
      "source": [
        "def presentar(nombre, apellido):\n",
        "    print(\"Hola, mi nombre es\", nombre, apellido)\n",
        "\n",
        "presentar(nombre = \"James\", apellido = \"Bond\")\n",
        "presentar(apellido = \"Skywalker\", nombre = \"Luke\")"
      ]
    },
    {
      "cell_type": "markdown",
      "metadata": {
        "id": "qj72-rwXtBVG"
      },
      "source": [
        "### Combinar argumentos posicionales y de palabra clave\n",
        "\n",
        "- Solo hay una **regla inquebrantable:** se deben colocar primero los argumentos posicionales y después los de palabra clave."
      ]
    },
    {
      "cell_type": "code",
      "execution_count": 92,
      "metadata": {
        "id": "K6ua3xLMtBVH"
      },
      "outputs": [],
      "source": [
        "def presentar(nombre, apellido, edad):\n",
        "    print(\"Hola, mi nombre es\", nombre, apellido, \"y mi edad es\", edad)"
      ]
    },
    {
      "cell_type": "code",
      "execution_count": 93,
      "metadata": {
        "colab": {
          "base_uri": "https://localhost:8080/"
        },
        "id": "cWEb-tiftBVH",
        "outputId": "ebec6c27-47a8-4646-ad16-5c3444a49cf8"
      },
      "outputs": [
        {
          "output_type": "stream",
          "name": "stdout",
          "text": [
            "Hola, mi nombre es Jose Gabriel y mi edad es 49\n"
          ]
        }
      ],
      "source": [
        "presentar(\"Jose\", \"Gabriel\", 49)"
      ]
    },
    {
      "cell_type": "code",
      "execution_count": 94,
      "metadata": {
        "colab": {
          "base_uri": "https://localhost:8080/"
        },
        "id": "CvDaYz6etBVH",
        "outputId": "bfd13534-edbb-43a0-893e-6387b60a6fa6"
      },
      "outputs": [
        {
          "output_type": "stream",
          "name": "stdout",
          "text": [
            "Hola, mi nombre es Jose Rodriguez y mi edad es 49\n"
          ]
        }
      ],
      "source": [
        "presentar(\"Jose\", edad=49, apellido=\"Rodriguez\")"
      ]
    },
    {
      "cell_type": "markdown",
      "metadata": {
        "id": "Ukld9gA5tBVH"
      },
      "source": [
        "### Regresar resultados - La instrucción **return**\n",
        "\n",
        "-  La instrucción **return**  termina la función,"
      ]
    },
    {
      "cell_type": "code",
      "execution_count": 95,
      "metadata": {
        "id": "EdNXdmoMtBVH"
      },
      "outputs": [],
      "source": [
        "def calcularDoble(qaz):\n",
        "    qaz = qaz * 2\n",
        "    return qaz"
      ]
    },
    {
      "cell_type": "code",
      "execution_count": 96,
      "metadata": {
        "colab": {
          "base_uri": "https://localhost:8080/"
        },
        "id": "Z1DsJLbItBVH",
        "outputId": "48d7a3ec-247c-44cb-a264-99b7cb8c1d1b"
      },
      "outputs": [
        {
          "output_type": "stream",
          "name": "stdout",
          "text": [
            "10\n",
            "40\n"
          ]
        }
      ],
      "source": [
        "# Asiganr el resultado de la division a una variable\n",
        "Valor_al_doble = calcularDoble(5)\n",
        "print(Valor_al_doble)\n",
        "\n",
        "# O simplemente\n",
        "print(calcularDoble(20))"
      ]
    },
    {
      "cell_type": "markdown",
      "metadata": {
        "id": "OeoJ6aMitBVH"
      },
      "source": [
        "### Alcances de las variables en funciones\n",
        "\n",
        "- El alcance de una variable re refiere a la parte del código donde la variable es reconocido correctamente\n",
        "- Una variable que existe fuera de una función tiene alcance dentro del cuerpo de la función.\n",
        "- Una variable que existe fuera de una función tiene un alcance dentro del cuerpo de la función, excluyendo a aquellas que tienen el mismo nombre.\n",
        "- El alcance de una variable existente fuera de una función solo se puede implementar dentro de una función cuando su valor es leído. El asignar un valor hace que la función cree su propia variable.\n",
        "- Extender el alcance de una variable incluyendo el cuerpo de las funciones para poder no solo leer los valores de las variables sino también modificarlos con la palabra reservada **global**"
      ]
    },
    {
      "cell_type": "code",
      "execution_count": 97,
      "metadata": {
        "colab": {
          "base_uri": "https://localhost:8080/",
          "height": 176
        },
        "id": "hjxnwuJZtBVH",
        "outputId": "93515663-a535-4942-8b48-bad705a4945d"
      },
      "outputs": [
        {
          "output_type": "error",
          "ename": "NameError",
          "evalue": "name 'variableX' is not defined",
          "traceback": [
            "\u001b[0;31m---------------------------------------------------------------------------\u001b[0m",
            "\u001b[0;31mNameError\u001b[0m                                 Traceback (most recent call last)",
            "\u001b[0;32m/tmp/ipython-input-2150087803.py\u001b[0m in \u001b[0;36m<cell line: 0>\u001b[0;34m()\u001b[0m\n\u001b[1;32m      6\u001b[0m \u001b[0;34m\u001b[0m\u001b[0m\n\u001b[1;32m      7\u001b[0m \u001b[0mmiFuncion\u001b[0m\u001b[0;34m(\u001b[0m\u001b[0;34m)\u001b[0m\u001b[0;34m\u001b[0m\u001b[0;34m\u001b[0m\u001b[0m\n\u001b[0;32m----> 8\u001b[0;31m \u001b[0mprint\u001b[0m\u001b[0;34m(\u001b[0m\u001b[0mvariableX\u001b[0m\u001b[0;34m)\u001b[0m\u001b[0;34m\u001b[0m\u001b[0;34m\u001b[0m\u001b[0m\n\u001b[0m",
            "\u001b[0;31mNameError\u001b[0m: name 'variableX' is not defined"
          ]
        }
      ],
      "source": [
        "# la variable variableX no existe, solo existe dentro de la funcion\n",
        "\n",
        "def miFuncion():\n",
        "    variableX = 123\n",
        "\n",
        "\n",
        "miFuncion()\n",
        "print(variableX)\n"
      ]
    },
    {
      "cell_type": "code",
      "execution_count": 101,
      "metadata": {
        "colab": {
          "base_uri": "https://localhost:8080/"
        },
        "id": "pY6EWWe3tBVH",
        "outputId": "a93fda9b-4890-4124-8dd9-a5d66a9ae8eb"
      },
      "outputs": [
        {
          "output_type": "stream",
          "name": "stdout",
          "text": [
            "Valor de la variable 1\n",
            "¿Valor de la variable? 2\n",
            "Valor de la variable 1\n"
          ]
        }
      ],
      "source": [
        "# El alcance de una variable existente fuera de una función solo se\n",
        "# puede implementar dentro de una función cuando su valor es leído.\n",
        "# El asignar un valor hace que la función cree su propia variable.\n",
        "\n",
        "def miFuncion():\n",
        "    variable = 2\n",
        "    print(\"¿Valor de la variable?\", variable)\n",
        "\n",
        "variable = 1\n",
        "print(\"Valor de la variable\", variable)\n",
        "miFuncion()\n",
        "print(\"Valor de la variable\", variable)"
      ]
    },
    {
      "cell_type": "code",
      "execution_count": 103,
      "metadata": {
        "colab": {
          "base_uri": "https://localhost:8080/"
        },
        "id": "kctzMc83tBVI",
        "outputId": "5c60e1db-8568-4998-ddcd-0aa6f04d8898"
      },
      "outputs": [
        {
          "output_type": "stream",
          "name": "stdout",
          "text": [
            "Valor de la variable 1\n",
            "¿Valor de la variable? 2\n",
            "Valor de la variable 2\n"
          ]
        }
      ],
      "source": [
        "# EN este ejemplo ya se modifico el valor de la variable\n",
        "# El utilizar la palabra reservada GLOBAL dentro de una función con el\n",
        "# nombre o nombres de las variables separados por comas, obliga a\n",
        "# Python a abstenerse de crear una nueva variable dentro de la función;\n",
        "\n",
        "# se empleará la que se puede acceder desde el exterior.\n",
        "def miFuncion():\n",
        "    global variable\n",
        "    variable = 2\n",
        "    print(\"¿Valor de la variable?\", variable)\n",
        "\n",
        "variable = 1\n",
        "print(\"Valor de la variable\", variable)\n",
        "miFuncion()\n",
        "print(\"Valor de la variable\", variable)"
      ]
    },
    {
      "cell_type": "markdown",
      "metadata": {
        "id": "6FKxxMQitBVI"
      },
      "source": [
        "## Ejercicio de funciones\n",
        "\n",
        "Realizar un"
      ]
    },
    {
      "cell_type": "code",
      "execution_count": null,
      "metadata": {
        "id": "mT7d_F19tBVI"
      },
      "outputs": [],
      "source": []
    },
    {
      "cell_type": "markdown",
      "metadata": {
        "id": "dBsLE3bBtBVI"
      },
      "source": [
        "## 1.10 Manejo de excepciones <a id='id10'> </a>\n",
        "\n",
        "El lidiar con errores de programación tiene (al menos) dos partes:\n",
        "1. La primera es cuando te metes en problemas porque tu código, aparentemente correcto, se alimenta con datos incorrectos. Por ejemplo, esperas que se ingrese al código un valor entero, pero el usuario ingresa algunas letras al azar. Otro escenario es cuando intentas abrir un archivo, pero ese archivo ya no existe o se le cambio el nombre.\n",
        "2. La segunda parte de lidiar con errores de programación se revela cuando ocurre un comportamiento no deseado del programa debido a errores que se cometieron cuando se estaba escribiendo el código. Este tipo de error se denomina comúnmente \"bug\".\n",
        "\n",
        "Tomese como ejemplo el siguiente escenario:\n",
        "\n",
        "1. Se desea capturar un numero por teclado para obtener su recíproco, (dividir 1 por el número).\n",
        "2. Se tiene el siguiente código  \n",
        "value = int(input('Ingresa un número natural: '))  \n",
        "print('El recíproco de', value, 'es', 1/value)  \n",
        "3. El usuario teclea una letra, lo cual originaria el siguiente error\n",
        "\n",
        "> Traceback (most recent call last):  \n",
        "  File \"code.py\", line 1, in  \n",
        "    value = int(input('Ingresa un número: '))  \n",
        "ValueError: invalid literal for int() with base 10: ''  \n",
        "\n",
        "La primera palabra de la línea es el **nombre de la excepción** la cual provoca que tu código se detenga. Su nombre aquí es **ValueError**. El resto de la línea es solo una breve explicación que especifica con mayor precisión la causa de la excepción ocurrida.\n",
        "\n",
        "Para prevenir el primer tipo de errores, Python ofrece el manejo de excepciones que se hace mediante los bloques que utilizan las sentencias **try** , **except** y **finally**.\n",
        "\n",
        "- **try:** En este lugar se coloca el código que se sospecha que es riesgoso y puede terminar en caso de un error; nota: este tipo de error lleva por nombre excepción, mientras que la ocurrencia de la excepción se le denomina generar; podemos decir que se genera (o se generó) una excepción.\n",
        "- **except:** Esta parte fue diseñada para manejar la excepción; depende de ti lo que quieras hacer aquí: Mandar un mensaje que algo salio mal y repetir el proceso, o bien, simplemente terminar la ejecucion del programa.\n",
        "\n",
        "\n"
      ]
    },
    {
      "cell_type": "markdown",
      "metadata": {
        "id": "pGcHuKCOtBVI"
      },
      "source": [
        "### Sintaxis Try - except\n",
        "\n",
        "\n",
        "`\n",
        "try:  \n",
        "        Some Code....  \n",
        "except:  \n",
        "        optional block  \n",
        "        Handling of exception (if required)  \n",
        "else:  \n",
        "        execute if no exception  \n",
        "finally:  \n",
        "        Some code .....(always executed)  \n",
        "`"
      ]
    },
    {
      "cell_type": "code",
      "execution_count": 104,
      "metadata": {
        "colab": {
          "base_uri": "https://localhost:8080/"
        },
        "id": "EJ94Qb_ltBVI",
        "outputId": "277cddab-d0bc-408d-b6d6-d9fa6e4ff388"
      },
      "outputs": [
        {
          "output_type": "stream",
          "name": "stdout",
          "text": [
            "Introduce un numero 5\n",
            "La multiplicacion de 5 por 5.0 es = 25.0 \n",
            "\n"
          ]
        }
      ],
      "source": [
        "#  En este ejemplo, todo esta bien. Se espera un numero, el usuario introduce un\n",
        "# numero y se realiza el proceso como debe de ser\n",
        "x = float(input(\"Introduce un numero \"))\n",
        "y = 5\n",
        "print ( \"La multiplicacion de\", y, \"por\", x, \"es =\", x*y , \"\\n\")"
      ]
    },
    {
      "cell_type": "code",
      "execution_count": 105,
      "metadata": {
        "colab": {
          "base_uri": "https://localhost:8080/",
          "height": 228
        },
        "id": "jXNotVq9tBVJ",
        "outputId": "6ae14c15-fd19-464c-825f-00ddc655fd15"
      },
      "outputs": [
        {
          "name": "stdout",
          "output_type": "stream",
          "text": [
            "Introduce un numero G\n"
          ]
        },
        {
          "output_type": "error",
          "ename": "ValueError",
          "evalue": "could not convert string to float: 'G'",
          "traceback": [
            "\u001b[0;31m---------------------------------------------------------------------------\u001b[0m",
            "\u001b[0;31mValueError\u001b[0m                                Traceback (most recent call last)",
            "\u001b[0;32m/tmp/ipython-input-421357427.py\u001b[0m in \u001b[0;36m<cell line: 0>\u001b[0;34m()\u001b[0m\n\u001b[1;32m      2\u001b[0m \u001b[0;31m# en este caso: una letra. Se interrumpe la ejecucion del programa\u001b[0m\u001b[0;34m\u001b[0m\u001b[0;34m\u001b[0m\u001b[0m\n\u001b[1;32m      3\u001b[0m \u001b[0;34m\u001b[0m\u001b[0m\n\u001b[0;32m----> 4\u001b[0;31m \u001b[0mx\u001b[0m \u001b[0;34m=\u001b[0m \u001b[0mfloat\u001b[0m\u001b[0;34m(\u001b[0m\u001b[0minput\u001b[0m\u001b[0;34m(\u001b[0m\u001b[0;34m\"Introduce un numero \"\u001b[0m\u001b[0;34m)\u001b[0m\u001b[0;34m)\u001b[0m\u001b[0;34m\u001b[0m\u001b[0;34m\u001b[0m\u001b[0m\n\u001b[0m\u001b[1;32m      5\u001b[0m \u001b[0my\u001b[0m \u001b[0;34m=\u001b[0m \u001b[0;36m5\u001b[0m\u001b[0;34m\u001b[0m\u001b[0;34m\u001b[0m\u001b[0m\n\u001b[1;32m      6\u001b[0m \u001b[0mprint\u001b[0m \u001b[0;34m(\u001b[0m \u001b[0;34m\"La multiplicacion de\"\u001b[0m\u001b[0;34m,\u001b[0m\u001b[0my\u001b[0m\u001b[0;34m,\u001b[0m \u001b[0;34m\"por\"\u001b[0m\u001b[0;34m,\u001b[0m \u001b[0mx\u001b[0m\u001b[0;34m,\u001b[0m \u001b[0;34m\"es =\"\u001b[0m\u001b[0;34m,\u001b[0m \u001b[0mx\u001b[0m\u001b[0;34m*\u001b[0m\u001b[0my\u001b[0m\u001b[0;34m,\u001b[0m \u001b[0;34m\"\\n\"\u001b[0m\u001b[0;34m)\u001b[0m\u001b[0;34m\u001b[0m\u001b[0;34m\u001b[0m\u001b[0m\n",
            "\u001b[0;31mValueError\u001b[0m: could not convert string to float: 'G'"
          ]
        }
      ],
      "source": [
        "#  En este ejemplo, que pasa si el usuario introduce un valor invalido,\n",
        "# en este caso: una letra. Se interrumpe la ejecucion del programa\n",
        "\n",
        "x = float(input(\"Introduce un numero \"))\n",
        "y = 5\n",
        "print ( \"La multiplicacion de\",y, \"por\", x, \"es =\", x*y, \"\\n\")"
      ]
    },
    {
      "cell_type": "code",
      "execution_count": 106,
      "metadata": {
        "colab": {
          "base_uri": "https://localhost:8080/"
        },
        "id": "7QgPF925tBVJ",
        "outputId": "f959744b-ceff-47c4-b2d5-34804e8cb0f5"
      },
      "outputs": [
        {
          "output_type": "stream",
          "name": "stdout",
          "text": [
            "Introduce un numero K\n",
            "Ha ocurrido un error\n",
            "Introduce un numero K\n",
            "Ha ocurrido un error\n",
            "Introduce un numero 5\n",
            "La multiplicacion de 5 por 5.0 es = 25.0\n"
          ]
        }
      ],
      "source": [
        "# Introducimos el manejo de excepciones, es decir, poner en la sentencia Try el código\n",
        "# que puede generar un error. Y en el except se especifica que debe hacerse si el usuario\n",
        "# no introduce el valor esperado.\n",
        "# De esta forma se asegura que no se interrumpa abruptamente la ejecucion del programa\n",
        "\n",
        "while(True):\n",
        "    try:\n",
        "        x = float(input(\"Introduce un numero \"))\n",
        "        y = 5\n",
        "        print ( \"La multiplicacion de\",y, \"por\", x, \"es =\", x*y)\n",
        "        break\n",
        "    except:\n",
        "        print(\"Ha ocurrido un error\")\n"
      ]
    },
    {
      "cell_type": "markdown",
      "metadata": {
        "id": "erDZmBkYtBVJ"
      },
      "source": [
        "### Las claúsulas finally y else en un try - except\n",
        "\n",
        "- En un **finally**, el código que se incluya en ella se ejecutará siempre, suceda o NO suceda una excepción.\n",
        "- **finally** no necesita que haya ningún except\n",
        "- La clausula **else** permite ejecutar código cuando no hay ningún error."
      ]
    },
    {
      "cell_type": "code",
      "execution_count": 107,
      "metadata": {
        "colab": {
          "base_uri": "https://localhost:8080/"
        },
        "id": "Y7rm6QzHtBVJ",
        "outputId": "1ece489c-a7ec-4d77-e440-637e256ef4f2"
      },
      "outputs": [
        {
          "output_type": "stream",
          "name": "stdout",
          "text": [
            "Introduce un número 5\n",
            "La multiplicacion de 5 por 5.0 es = 25.0 \n",
            "\n",
            "Todo funciono bien\n",
            "Codigo final \n"
          ]
        }
      ],
      "source": [
        "# En este ejemplo introducimos las clausulas else y finally\n",
        "\n",
        "while(True):\n",
        "    try:\n",
        "        x = float(input(\"Introduce un número \"))\n",
        "        y = 5\n",
        "        print ( \"La multiplicacion de\",y, \"por\", x, \"es =\", x*y, \"\\n\")\n",
        "    except:\n",
        "        print(\"Ha ocurrido un error\")\n",
        "    else:\n",
        "        print (\"Todo funciono bien\")\n",
        "        break\n",
        "    finally:\n",
        "        print(\"Codigo final \")\n",
        ""
      ]
    },
    {
      "cell_type": "code",
      "execution_count": 108,
      "metadata": {
        "scrolled": true,
        "colab": {
          "base_uri": "https://localhost:8080/"
        },
        "id": "AlANAI66tBVJ",
        "outputId": "5cda80e6-2816-43f0-acd9-6088d10ecf5e"
      },
      "outputs": [
        {
          "output_type": "stream",
          "name": "stdout",
          "text": [
            "Introduce un numero 5\n",
            "La multiplicacion de 5 por 5.0 es = 25.0\n",
            "Todo funciono bien\n",
            "Codigo final \n",
            "\n",
            "fuera del try\n"
          ]
        }
      ],
      "source": [
        "# Hasta el momento hemos usado except, el cual es un error de tipo generico.\n",
        "# lo eseable seria utilizar mas de una excepcion de acuerdo al tipo de error\n",
        "# que puede suceder\n",
        "\n",
        "# Agregamos en except una variable para mandar un mensaje que permita conocer el tipo de error\n",
        "\n",
        "while(True):\n",
        "    try:\n",
        "        x = float(input(\"Introduce un numero \"))\n",
        "        y = 5\n",
        "        print ( \"La multiplicacion de\",y, \"por\", x, \"es =\", x*y)\n",
        "    except Exception as e:\n",
        "        print(\"Error de tipo\", type(e).__name__)\n",
        "    else:\n",
        "        print (\"Todo funciono bien\")\n",
        "        break\n",
        "    finally:\n",
        "        print(\"Codigo final \\n\")\n",
        "\n",
        "print(\"fuera del try\")"
      ]
    },
    {
      "cell_type": "code",
      "execution_count": 109,
      "metadata": {
        "colab": {
          "base_uri": "https://localhost:8080/"
        },
        "id": "DCj_h9b2tBVK",
        "outputId": "b2abd778-58e1-4c05-8fbc-e1a3d3827f7c"
      },
      "outputs": [
        {
          "output_type": "stream",
          "name": "stdout",
          "text": [
            "Introduce un numero5\n",
            "La multiplicacion de 5 por 5.0 es = 25.0\n",
            "Todo funciono bien\n",
            "Codigo final \n",
            "\n",
            "fuera del try\n"
          ]
        }
      ],
      "source": [
        "# Ahora que sabemos el tipo de error, podemos capturar ese error y adicionalmente\n",
        "# dejar el generico, por si sucede un error de algun otro tipo. Por ejemplo:\n",
        "\n",
        "while(True):\n",
        "    try:\n",
        "        x = float(input(\"Introduce un numero\"))\n",
        "        y = 5\n",
        "        print ( \"La multiplicacion de\",y, \"por\", x, \"es =\", x*y)\n",
        "    except ValueError:\n",
        "        print(\"No es numerico el valor proporcionado\")\n",
        "\n",
        "    except Exception as e:\n",
        "        print(\"Error\", type(e).__name__)\n",
        "    else:\n",
        "        print (\"Todo funciono bien\")\n",
        "        break\n",
        "    finally:\n",
        "        print(\"Codigo final \\n\")\n",
        "\n",
        "print(\"fuera del try\")"
      ]
    },
    {
      "cell_type": "code",
      "execution_count": null,
      "metadata": {
        "id": "wLEHeGYUtBVK"
      },
      "outputs": [],
      "source": [
        "##  Que paso si divido entre 0   ???\n",
        "## Verificar en ese caso el tipo de error y programarlo"
      ]
    },
    {
      "cell_type": "code",
      "execution_count": null,
      "metadata": {
        "id": "YNUTY_6vtBVK"
      },
      "outputs": [],
      "source": []
    },
    {
      "cell_type": "code",
      "execution_count": null,
      "metadata": {
        "id": "grcviP4htBVK"
      },
      "outputs": [],
      "source": []
    }
  ],
  "metadata": {
    "kernelspec": {
      "display_name": "Python 3 (ipykernel)",
      "language": "python",
      "name": "python3"
    },
    "language_info": {
      "codemirror_mode": {
        "name": "ipython",
        "version": 3
      },
      "file_extension": ".py",
      "mimetype": "text/x-python",
      "name": "python",
      "nbconvert_exporter": "python",
      "pygments_lexer": "ipython3",
      "version": "3.8.13"
    },
    "colab": {
      "provenance": [],
      "include_colab_link": true
    }
  },
  "nbformat": 4,
  "nbformat_minor": 0
}