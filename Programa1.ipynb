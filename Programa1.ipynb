{
  "nbformat": 4,
  "nbformat_minor": 0,
  "metadata": {
    "colab": {
      "provenance": [],
      "authorship_tag": "ABX9TyNqZbGqydiW3NTGF9KejPWt",
      "include_colab_link": true
    },
    "kernelspec": {
      "name": "python3",
      "display_name": "Python 3"
    },
    "language_info": {
      "name": "python"
    }
  },
  "cells": [
    {
      "cell_type": "markdown",
      "metadata": {
        "id": "view-in-github",
        "colab_type": "text"
      },
      "source": [
        "<a href=\"https://colab.research.google.com/github/JoseGabriel-ITD/POO/blob/main/Programa1.ipynb\" target=\"_parent\"><img src=\"https://colab.research.google.com/assets/colab-badge.svg\" alt=\"Open In Colab\"/></a>"
      ]
    },
    {
      "cell_type": "code",
      "execution_count": null,
      "metadata": {
        "id": "HB4PRqG95NVH"
      },
      "outputs": [],
      "source": []
    },
    {
      "cell_type": "markdown",
      "source": [
        "# **Programación Orientada a Objetos**\n",
        "\n",
        "## **Unidad 1. Introduccion a POO**\n",
        "\n",
        "### Maestro:  Jose Gabriel Rodriguez Rivas\n",
        "\n",
        "### Alumno: ___________________________\n",
        "\n"
      ],
      "metadata": {
        "id": "lbwIjMlo5f1c"
      }
    },
    {
      "cell_type": "code",
      "source": [
        "# Declarar variables\n",
        "# En python no hay necesidad de declarar el tipo de variable\n",
        "# Cuando se le asigna el valor, automaticamente python ya sabe de que tipo es\n",
        "# Python es CASE SENSITIVE es decir que es sensible a mayusculas a la hora de\n",
        "# declarar varibles, por lo tanto no es lomismo la variable x, que la varibale X\n",
        "X = 5\n",
        "msg = \"Hola Mundo\"\n",
        "print(X, msg)"
      ],
      "metadata": {
        "colab": {
          "base_uri": "https://localhost:8080/"
        },
        "id": "ir-WM1ES5U4K",
        "outputId": "f7860fb5-8e8a-4cd3-8869-827ab0696229"
      },
      "execution_count": 2,
      "outputs": [
        {
          "output_type": "stream",
          "name": "stdout",
          "text": [
            "5 Hola Mundo\n"
          ]
        }
      ]
    },
    {
      "cell_type": "code",
      "source": [
        "# Python es debilmente tipado, es decir, no hay necesidad de declarar el tipo de\n",
        "# variable, y ademas, la misma variable en un momento puede ser entera y en otra string\n",
        "# o booleana\n",
        "print(type(X) )\n",
        "X= \"Hola\"\n",
        "print(type(X) )"
      ],
      "metadata": {
        "colab": {
          "base_uri": "https://localhost:8080/"
        },
        "id": "2tyH_guz7yy2",
        "outputId": "2216f568-846f-46a3-e36c-6a3ce15d4687"
      },
      "execution_count": 5,
      "outputs": [
        {
          "output_type": "stream",
          "name": "stdout",
          "text": [
            "<class 'int'>\n",
            "<class 'str'>\n"
          ]
        }
      ]
    }
  ]
}